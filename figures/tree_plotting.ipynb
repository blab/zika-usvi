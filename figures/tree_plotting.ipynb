{
 "cells": [
  {
   "cell_type": "code",
   "execution_count": 1,
   "metadata": {
    "collapsed": false
   },
   "outputs": [
    {
     "name": "stdout",
     "output_type": "stream",
     "text": [
      "1.11.2\n",
      "1.5.1\n"
     ]
    },
    {
     "data": {
      "text/plain": [
       "u'/usr/local/lib/python2.7/site-packages/matplotlib/mpl-data/fonts/ttf/Helvetica.ttf'"
      ]
     },
     "execution_count": 1,
     "metadata": {},
     "output_type": "execute_result"
    }
   ],
   "source": [
    "#import the tree parser\n",
    "import baltic_four as bt\n",
    "\n",
    "#load other relevant libraries for plotting\n",
    "import numpy as np\n",
    "print np.__version__\n",
    "import re\n",
    "from scipy.special import binom\n",
    "import matplotlib as mpl\n",
    "import matplotlib.pyplot as plt\n",
    "print mpl.__version__\n",
    "%matplotlib inline\n",
    "\n",
    "from matplotlib import font_manager as fm\n",
    "fm.findfont('Helvetica')"
   ]
  },
  {
   "cell_type": "markdown",
   "metadata": {},
   "source": [
    "## First step: parse the mcc trees using baltic (by Gytis Dudas)\n",
    "\n",
    "The baltic tree parser will iterate though the tree recording instances of the leaves and nodes."
   ]
  },
  {
   "cell_type": "code",
   "execution_count": 2,
   "metadata": {
    "collapsed": false
   },
   "outputs": [
    {
     "name": "stdout",
     "output_type": "stream",
     "text": [
      "File: usvi-primary-clade.mcc\n"
     ]
    }
   ],
   "source": [
    "tree_path='/Users/alliblk/Desktop/gitrepos/zika-usvi/beast/usvi-primary-clade.mcc'\n",
    "print \"File: %s\"%(tree_path.split('/')[-1]) #make sure I have the right file"
   ]
  },
  {
   "cell_type": "code",
   "execution_count": 3,
   "metadata": {
    "collapsed": false
   },
   "outputs": [
    {
     "name": "stdout",
     "output_type": "stream",
     "text": [
      "19\n"
     ]
    }
   ],
   "source": [
    "tipFlag=False ## used to keep track of where we are in FigTree format\n",
    "tips={} ## dictionary of tip code to full tip name\n",
    "\n",
    "for line in open(tree_path,'rU'): ## iterate through FigTree file's lines\n",
    "    line = line.strip('\\n') ## strip newline characters from each line\n",
    "    tip_count_match =re.search('dimensions ntax=([0-9]+);',line.lower()) ## check how many tips you have\n",
    "    if tip_count_match is not None:\n",
    "        tipNum=int(tip_count_match.group(1)) \n",
    "\n",
    "print tipNum #should be the total number of taxa in the tree."
   ]
  },
  {
   "cell_type": "code",
   "execution_count": 4,
   "metadata": {
    "collapsed": true
   },
   "outputs": [],
   "source": [
    "for line in open(tree_path,'rU'):\n",
    "    line = line.strip('\\n')\n",
    "    tree_string_match =re.search('tree TREE([0-9]+) = \\[&R\\]',line) ## search for beginning of tree string in BEAST format\n",
    "    if tree_string_match is not None:\n",
    "        treeString_start = line.index('(') ## tree string starts where the first '(' is in the line\n",
    "        #print treeString_start\n",
    "        linked_list = bt.tree() ## new instance of tree\n",
    "        bt.make_tree(line[treeString_start:],linked_list) ## send tree string to make_tree function, provide an empty tree object"
   ]
  },
  {
   "cell_type": "code",
   "execution_count": 5,
   "metadata": {
    "collapsed": false
   },
   "outputs": [
    {
     "name": "stdout",
     "output_type": "stream",
     "text": [
      "Number of objects found in tree string: 37\n"
     ]
    }
   ],
   "source": [
    "for line in open(tree_path,'rU'):\n",
    "    line = line.strip('\\n')\n",
    "    if tipFlag==True:\n",
    "        tip_match = re.search('([0-9]+) ([A-Za-z\\-\\_\\/\\.\\'0-9 \\|?]+)',line) \n",
    "        ## look for tip name map, where each tip is given an integer to represent it in tree\n",
    "        if tip_match is not None:\n",
    "            tips[tip_match.group(1)]=tip_match.group(2).strip(\"'\") \n",
    "            ## if you give tips an integer (in the form of a string), it will return the full name of the tip\n",
    "        elif ';' not in line: ## something's wrong - nothing that matches the tip regex is being captured where it should be in the file\n",
    "            print 'tip not captured by regex:',line.replace('\\t','')\n",
    "\n",
    "    if 'translate' in line.lower(): ## start looking for tips, the tips text block is starting \n",
    "        tipFlag=True\n",
    "    if ';' in line: ## stop looking for tips, the tips text block has ended\n",
    "        tipFlag=False\n",
    "\n",
    "print \"Number of objects found in tree string: %d\"%(len(linked_list.Objects))"
   ]
  },
  {
   "cell_type": "code",
   "execution_count": 6,
   "metadata": {
    "collapsed": false
   },
   "outputs": [
    {
     "name": "stdout",
     "output_type": "stream",
     "text": [
      "2016.85519126\n",
      "Highest tip date: 2016.8552\n"
     ]
    }
   ],
   "source": [
    "if len(tips)==0: ## use this if tip names in the string are already the final format\n",
    "    for k in linked_list.Objects:\n",
    "        if isinstance(k,leaf):\n",
    "            k.name=k.numName\n",
    "    highestTip=max([bt.decimalDate(x.name.strip(\"'\").split('|')[2],variable=True) for x in linked_list.Objects if isinstance(x,leaf)])\n",
    "else: ## there's a tip name map at the beginning, so translate the names (so that you're not using the taxon numbers)\n",
    "    linked_list.renameTips(tips) ## give each tip a name\n",
    "    highestTip=max([bt.decimalDate(x.strip(\"'\").split('|')[2],variable=True) for x in tips.values()])\n",
    "print highestTip\n",
    "\n",
    "linked_list.sortBranches(descending=False) #sorts branches and automatically draws tree.\n",
    "\n",
    "linked_list.setAbsoluteTime(highestTip) #set absolute time based off of most recent leaf.\n",
    "print 'Highest tip date: %.4f'%(highestTip) #and check that that's correct."
   ]
  },
  {
   "cell_type": "code",
   "execution_count": 101,
   "metadata": {
    "collapsed": false
   },
   "outputs": [
    {
     "name": "stdout",
     "output_type": "stream",
     "text": [
      ":family=Helvetica,HelveticaNeue,HelveticaLight,sans-serif:style=normal:variant=normal:weight=400:stretch=normal:file=/usr/local/lib/python2.7/site-packages/matplotlib/mpl-data/fonts/ttf/HelveticaNeueThin.ttf:size=10.0\n"
     ]
    }
   ],
   "source": [
    "#designate which font to use. To use others just use different ttf files \n",
    "#if ttf files not already in there, may need to do fondu conversion of dfont files and move in.\n",
    "font_path = '/usr/local/lib/python2.7/site-packages/matplotlib/mpl-data/fonts/ttf/HelveticaNeueThin.ttf'\n",
    "font_properties = fm.FontProperties(fname=font_path)\n",
    "print font_properties\n",
    "mpl.rcParams['font.family'] = font_properties.get_name()\n",
    "\n",
    "#designate some font characteristics\n",
    "mpl.rcParams['font.weight']=100\n",
    "mpl.rcParams['axes.labelweight']=100\n",
    "mpl.rcParams['font.size']=14\n"
   ]
  },
  {
   "cell_type": "code",
   "execution_count": 114,
   "metadata": {
    "collapsed": false
   },
   "outputs": [],
   "source": [
    "### designate some nodes in the tree to show support values for ###\n",
    "#tips is the dictionary I have linking numNames to realNames.\n",
    "\n",
    "#linked list is my tree object\n",
    "#tipMap is a method of tree objects. \n",
    "linked_list.tipMap=tips\n",
    "\n",
    "#commonAncestor is also a method of tree objects, takes a list\n",
    "#note you can specify whether the list is of numNames or actual names.\n",
    "#default is numNames = FALSE, here I'm making that explicit.\n",
    "stt_support = linked_list.commonAncestor(['USVI/25/2016|VI25|2016-09-27|usvi|saint_thomas|saint_thomas|minion','USVI/35/2016|VI35|2016-09-08|usvi|saint_thomas|saint_thomas|minion'],False)\n",
    "stt_sub_clade = linked_list.commonAncestor(['USVI/25/2016|VI25|2016-09-27|usvi|saint_thomas|saint_thomas|minion','USVI/38/2016|VI38|2016-10-25|usvi|saint_thomas|saint_thomas|minion'],False)\n",
    "stj_support = linked_list.commonAncestor(['USVI/21/2016|VI21|2016-11-07|usvi|saint_john|saint_john|minion','USVI/6/2016|VI6|2016-10-19|usvi|saint_john|saint_john|miseq'],False)\n",
    "stx_support = linked_list.commonAncestor(['USVI/37/2016|VI37|2016-10-06|usvi|saint_croix|saint_croix|minion','USVI/39/2016|VI39|2016-11-09|usvi|saint_croix|saint_croix|minion'],False)\n",
    "stx_stt_support = linked_list.commonAncestor(['USVI/37/2016|VI37|2016-10-06|usvi|saint_croix|saint_croix|minion','USVI/23/2016|VI23|2016-07-12|usvi|saint_thomas|saint_thomas|minion'],False)"
   ]
  },
  {
   "cell_type": "code",
   "execution_count": 116,
   "metadata": {
    "collapsed": false
   },
   "outputs": [
    {
     "name": "stdout",
     "output_type": "stream",
     "text": [
      "0.67\n",
      "1.00\n",
      "1.00\n",
      "0.95\n",
      "0.99\n"
     ]
    }
   ],
   "source": [
    "#make node string for annotating support values on tree figure.\n",
    "\n",
    "stt_support_val = '{0:.2f}'.format(stt_support.traits['posterior'])\n",
    "stt_sub_clade_val = '{0:.2f}'.format(stt_sub_clade.traits['posterior'])\n",
    "stj_support_val = '{0:.2f}'.format(stj_support.traits['posterior'])\n",
    "stx_support_val = '{0:.2f}'.format(stx_support.traits['posterior'])\n",
    "stx_stt_support_val = '{0:.2f}'.format(stx_stt_support.traits['posterior'])\n",
    "\n",
    "print stt_support_val\n",
    "print stt_sub_clade_val\n",
    "print stj_support_val\n",
    "print stx_support_val\n",
    "print stx_stt_support_val"
   ]
  },
  {
   "cell_type": "code",
   "execution_count": 143,
   "metadata": {
    "collapsed": false
   },
   "outputs": [
    {
     "data": {
      "image/png": "[encoded data removed]",
      "text/plain": [
       "<matplotlib.figure.Figure at 0x11125fad0>"
      ]
     },
     "metadata": {},
     "output_type": "display_data"
    },
    {
     "data": {
      "text/plain": [
       "<matplotlib.figure.Figure at 0x110182050>"
      ]
     },
     "metadata": {},
     "output_type": "display_data"
    }
   ],
   "source": [
    "####### tree drawing #######\n",
    "\n",
    "linked_list.sortBranches(descending=False)\n",
    "#set plotting parameters and plotting area\n",
    "fig,ax = plt.subplots(figsize=(10,10),facecolor='white')\n",
    "branchWidth=2 ## default branch width\n",
    "\n",
    "# iterate over the branches\n",
    "# x and y relate to dimensions when plotting, x is based on sampling date, y is arbitrary\n",
    "# and just allows expansion of the tree at even widths (y coords not informative in a tree)\n",
    "# each node in the tree (internal and leaves) will have an (x,y) coordinate.\n",
    "for k in linked_list.Objects:\n",
    "    x=k.absoluteTime ## or use absolute time instead\n",
    "    y=k.y ## get y position from .drawTree that was run earlier, but could be anything else\n",
    "    xp=k.parent.absoluteTime ## get x position of current node's parent\n",
    "    if x==None: ## matplotlib won't plot Nones, like root\n",
    "        x=0.0\n",
    "    if xp==None:\n",
    "        xp=x\n",
    "    #c= 'blue' #color can be fixed across trait\n",
    "    #or color can be applied by traits\n",
    "    #color = cmap(k.height/linked_list.treeHeight)\n",
    "    \n",
    "    ##### colour setting #####\n",
    "    #SET NODE COLOURS BASED ON ISLAND OF SAMPLING\n",
    "    if k.branchType == 'leaf' and k.name.split('|')[4] == 'saint_thomas':\n",
    "        color = 'lightskyblue' #a real matplotlib colour!\n",
    "    elif k.branchType == 'leaf' and k.name.split('|')[4] == 'saint_croix':\n",
    "        color = 'tomato'\n",
    "    elif k.branchType == 'leaf' and k.name.split('|')[4] == 'saint_john':\n",
    "        color = '#ccce23'\n",
    "\n",
    "\n",
    "    if isinstance(k,bt.leaf) or k.branchType=='leaf': ## if leaf...\n",
    "        #x=decimalDate(k.name.split('_')[-1],variable=True) ## get x position from name\n",
    "        s=90 ## tip size can be fixed\n",
    "        #s=50-30*k.height/linked_list.treeHeight #or size can be relative\n",
    "        \n",
    "        ax.scatter(x,y,s=s,facecolor=color,edgecolor='none',zorder=11) ## plot circle for every tip\n",
    "        ax.scatter(x,y,s=s+0.4*s,facecolor='k',edgecolor='none',zorder=10) ## plot black circle underneath\n",
    "    elif isinstance(k,bt.node) or k.branchType=='node':\n",
    "        ax.plot([x,x],[k.children[-1].y,k.children[0].y],lw=branchWidth,color='grey',ls='-',zorder=9)\n",
    "        #draw a circle on a specific node and annotate\n",
    "\n",
    "        ####### Add posterior support for key nodes #######        \n",
    "        if k == stt_support:\n",
    "            ax.text(x+0.01,y-0.25,stt_support_val,size=12)\n",
    "        elif k == stt_sub_clade:\n",
    "            ax.text(x+0.01,y-0.25,stt_sub_clade_val,size=12)\n",
    "        elif k == stj_support:\n",
    "            ax.text(x+0.01,y-0.25,stj_support_val,size=12)\n",
    "        elif k == stx_support:\n",
    "            ax.text(x+0.01,y-0.25,stx_support_val,size=12)\n",
    "        elif k == stx_stt_support:\n",
    "            ax.text(x+0.01,y-0.25,stx_stt_support_val,size=12)\n",
    "    \n",
    "    #plot the rest of the branches   \n",
    "    ax.plot([xp,x],[y,y],lw=branchWidth,color='grey',ls='-',zorder=9) #branches should be plotted beneath tip circles.\n",
    "\n",
    "\n",
    "    \n",
    "####### Plot area formatting #########\n",
    "#Remove lines from sides of plot that I don't like\n",
    "ax.spines['top'].set_visible(False)\n",
    "ax.spines['right'].set_visible(False)\n",
    "ax.spines['left'].set_visible(False)\n",
    "#ax.spines['bottom'].set_visible(False)\n",
    "\n",
    "ax.tick_params(axis='y',labelsize=0,size=0)\n",
    "ax.tick_params(axis='top',labelsize=0,size=0)\n",
    "\n",
    "#make the x labels plot in years\n",
    "\n",
    "ax.xaxis.set_ticks_position('bottom')   \n",
    "ax.set_xticks(range(2015,2018))\n",
    "ax.set_xticklabels(range(2015,2018))\n",
    "\n",
    "ax.set_xlim(2015,2017)\n",
    "ax.set_ylim(-1,len(linked_list.Objects)/2+10)\n",
    "\n",
    "\n",
    "######## make legend #########\n",
    "ax.text(2015,20, 'USVI primary outbreak clade', size=18)\n",
    "ax.text(2015,18.5, 'Saint John', size=16)\n",
    "ax.text(2015,17, 'Saint Croix', size=16)\n",
    "ax.text(2015,15.5, 'Saint Thomas', size=16)\n",
    "\n",
    "#STJ\n",
    "ax.scatter(2015.4,18.8,s=100,facecolor='#ccce23',edgecolor='none',zorder=11) ## plot circle for node\n",
    "ax.scatter(2015.4,18.8,s=130,facecolor='black',edgecolor='none',zorder=10) ## plot black circle underneath\n",
    "#STX\n",
    "ax.scatter(2015.4,17.3,s=100,facecolor='tomato',edgecolor='none',zorder=11) ## plot circle for node\n",
    "ax.scatter(2015.4,17.3,s=130,facecolor='black',edgecolor='none',zorder=10) ## plot black circle underneath\n",
    "#STT\n",
    "ax.scatter(2015.4,15.7,s=100,facecolor='lightskyblue',edgecolor='none',zorder=11) ## plot circle for node\n",
    "ax.scatter(2015.4,15.7,s=130,facecolor='black',edgecolor='none',zorder=10) ## plot black circle underneath\n",
    "\n",
    "####### see the plot #######\n",
    "plt.show()\n",
    "plt.figure()\n",
    "fig.savefig('usvi-primary-clade.pdf')\n",
    "fig.savefig('usvi-primary-clade.png')"
   ]
  }
 ],
 "metadata": {
  "kernelspec": {
   "display_name": "Python 2",
   "language": "python",
   "name": "python2"
  },
  "language_info": {
   "codemirror_mode": {
    "name": "ipython",
    "version": 2
   },
   "file_extension": ".py",
   "mimetype": "text/x-python",
   "name": "python",
   "nbconvert_exporter": "python",
   "pygments_lexer": "ipython2",
   "version": "2.7.10"
  }
 },
 "nbformat": 4,
 "nbformat_minor": 0
}

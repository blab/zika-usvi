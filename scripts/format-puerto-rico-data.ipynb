{
 "cells": [
  {
   "cell_type": "code",
   "execution_count": 12,
   "metadata": {},
   "outputs": [],
   "source": [
    "import pandas as pd\n",
    "from Bio import SeqIO\n"
   ]
  },
  {
   "cell_type": "code",
   "execution_count": 32,
   "metadata": {},
   "outputs": [],
   "source": [
    "seq_dict = SeqIO.to_dict(SeqIO.parse(\"../data/puerto-rico-data/CDC_PR_20200205.fasta\",\"fasta\"))\n",
    "metadata = pd.read_csv(\"../data/puerto-rico-data/pr-data-min70percentcoverage.csv\")\n",
    "\n",
    "#do some parsing of the strain names so that we have sequence and the name attached to just the numerical sample ID\n",
    "\n",
    "metadata_and_seqs_dict = {}\n",
    "for key in seq_dict.keys():\n",
    "    sample_number = int(seq_dict[key].id.split(\"_\")[-1]) #sample number in strain name matches sample ID in metadata file\n",
    "    metadata_and_seqs_dict[sample_number]={\"strain_name\": seq_dict[key].id, \"sequence\": seq_dict[key].seq}\n",
    "\n",
    "for index in metadata.index: \n",
    "    if metadata['sample_id'][index] in metadata_and_seqs_dict.keys(): #some records in metadata file don't actually have a sequence in the fasta because they were too low coverage.\n",
    "        metadata_and_seqs_dict[metadata['sample_id'][index]]['collection_date'] = metadata['collection_date'][index]\n"
   ]
  },
  {
   "cell_type": "code",
   "execution_count": 60,
   "metadata": {},
   "outputs": [
    {
     "name": "stdout",
     "output_type": "stream",
     "text": [
      "CDC_PR_770\n"
     ]
    }
   ],
   "source": [
    "#>USVI/30/2016|zika|VI30_1d|2016-08-07|north_america|usvi|saint_croix|saint_croix|fh|genome|Black et al|https://github.com/blab/zika-usvi/|Genetic characterization of the Zika virus epidemic in the US Virgin Islands|?|?\n",
    "#header format for ref\n",
    "\n",
    "with open(\"../data/puerto-rico-data/pr-sequences-in-fauna-format.fasta\",\"w\") as file:\n",
    "    for key in metadata_and_seqs_dict.keys():\n",
    "        try:\n",
    "            file.write(\">\" + metadata_and_seqs_dict[key][\"strain_name\"] + \"|zika|\" + str(key) + \"|\" + str(metadata_and_seqs_dict[key][\"collection_date\"]) + \"|north_america|puerto_rico|puerto_rico|puerto_rico|?|genome|Grubaugh Lab and CDC Dengue Branch|?|?|?\" + \"\\n\" + str(metadata_and_seqs_dict[key][\"sequence\"]) +\"\\n\"  )\n",
    "        except KeyError:\n",
    "            print(metadata_and_seqs_dict[key][\"strain_name\"])\n",
    "            continue\n"
   ]
  },
  {
   "cell_type": "code",
   "execution_count": 62,
   "metadata": {},
   "outputs": [],
   "source": [
    "#make chunk to add to sequence permissions info\n",
    "with open(\"../data/puerto-rico-data/seq_permissions_file.csv\",\"w\") as file:\n",
    "    for key in metadata_and_seqs_dict.keys():\n",
    "        try:\n",
    "            file.write( metadata_and_seqs_dict[key][\"strain_name\"] + \",\" + str(key) + \",\" + \"unpublished\" + \",NA,co-authorship,yes\"+\"\\n\")\n",
    "        except KeyError:\n",
    "            print(metadata_and_seqs_dict[key][\"strain_name\"])\n",
    "            continue\n",
    "   "
   ]
  },
  {
   "cell_type": "code",
   "execution_count": null,
   "metadata": {},
   "outputs": [],
   "source": []
  }
 ],
 "metadata": {
  "kernelspec": {
   "display_name": "Python 3",
   "language": "python",
   "name": "python3"
  },
  "language_info": {
   "codemirror_mode": {
    "name": "ipython",
    "version": 3
   },
   "file_extension": ".py",
   "mimetype": "text/x-python",
   "name": "python",
   "nbconvert_exporter": "python",
   "pygments_lexer": "ipython3",
   "version": "3.6.4"
  }
 },
 "nbformat": 4,
 "nbformat_minor": 2
}

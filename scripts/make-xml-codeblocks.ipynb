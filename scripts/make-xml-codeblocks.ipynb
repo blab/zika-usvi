{
 "cells": [
  {
   "cell_type": "code",
   "execution_count": 24,
   "metadata": {
    "collapsed": true
   },
   "outputs": [],
   "source": [
    "#libraries\n",
    "import numpy as np"
   ]
  },
  {
   "cell_type": "markdown",
   "metadata": {},
   "source": [
    "## README\n",
    "\n",
    "Here I'm just doing a bit of wrangling to make different codeblocks that I need for BEAST xml files. At some point this can start to the form the basis of a broader program to fully automate xml file generation without using BEAUti. For now it just generates some chunks that BEAUti won't make right now. "
   ]
  },
  {
   "cell_type": "code",
   "execution_count": null,
   "metadata": {
    "collapsed": true
   },
   "outputs": [],
   "source": [
    "#make generalDataType code block\n",
    "with open('/Users/alliblk/Desktop/gitrepos/zika-usvi/data/glm/indexed-countries-45.tsv','rU') as infile:\n",
    "    with open('/Users/alliblk/Desktop/gitrepos/zika-usvi/beast/generalDataType_countryList.txt', 'w') as outfile:\n",
    "        for line in infile:\n",
    "            if line.startswith('country'):\n",
    "                continue\n",
    "            else:\n",
    "                outfile.write('\\t\\t')\n",
    "                outfile.write('<state code=\"{}\"/>'.format(line.split('\\t')[0]))\n",
    "                outfile.write('\\n')"
   ]
  },
  {
   "cell_type": "code",
   "execution_count": 47,
   "metadata": {
    "collapsed": false
   },
   "outputs": [],
   "source": [
    "#make markov rewards code block\n",
    "\n",
    "#link countries to an index to ensure proper ordering is preserved\n",
    "#current file ordering is correct\n",
    "index_dict = {}\n",
    "counter = 0\n",
    "with open('/Users/alliblk/Desktop/gitrepos/zika-usvi/data/glm/indexed-countries-45.tsv','rU') as infile:\n",
    "    for line in infile:\n",
    "        if line.startswith('country'):\n",
    "            continue\n",
    "        else:\n",
    "            index_dict[counter] = line.split('\\t')[0] #use country, not region\n",
    "            counter +=1\n",
    "            \n",
    "#initialize empty markov rewards matrix\n",
    "#need the same number of rows and columns as you have demes. I.E. here it needs to be 45 by 45.\n",
    "reward_matrix = np.zeros((len(index_dict),len(index_dict)))\n",
    "for i in range(len(index_dict)): #for row in matrix\n",
    "    for j in range(len(index_dict)): #for column in matrix\n",
    "        if i == j: #if indexes match, i.e. the countries are the same:\n",
    "            reward_matrix[i,j] += 1 #that markov reward entry should == 1.\n",
    "        else:\n",
    "            continue #all other entries should be 0.\n",
    "\n",
    "xml_code ='''\\t\\t\\t<parameter id=\"{country}_reward\" value=\"{values}\"/>\\n'''\n",
    "with open('/Users/alliblk/Desktop/gitrepos/zika-usvi/beast/markov_rewards_block.txt', 'w') as outfile:\n",
    "    outfile.write('\\t\\t<rewards>\\n')\n",
    "    for i in range(len(reward_matrix)):\n",
    "        outfile.write(xml_code.format(country=index_dict[i], values = ' '.join(str(value) for value in reward_matrix[i])))\n",
    "    outfile.write('\\t\\t</rewards>\\n')"
   ]
  },
  {
   "cell_type": "code",
   "execution_count": null,
   "metadata": {
    "collapsed": true
   },
   "outputs": [],
   "source": []
  },
  {
   "cell_type": "code",
   "execution_count": null,
   "metadata": {
    "collapsed": true
   },
   "outputs": [],
   "source": []
  },
  {
   "cell_type": "code",
   "execution_count": 13,
   "metadata": {
    "collapsed": false
   },
   "outputs": [],
   "source": []
  }
 ],
 "metadata": {
  "kernelspec": {
   "display_name": "Python 2",
   "language": "python",
   "name": "python2"
  },
  "language_info": {
   "codemirror_mode": {
    "name": "ipython",
    "version": 2
   },
   "file_extension": ".py",
   "mimetype": "text/x-python",
   "name": "python",
   "nbconvert_exporter": "python",
   "pygments_lexer": "ipython2",
   "version": "2.7.10"
  }
 },
 "nbformat": 4,
 "nbformat_minor": 0
}

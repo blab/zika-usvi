{
 "cells": [
  {
   "cell_type": "code",
   "execution_count": 1,
   "metadata": {
    "collapsed": false
   },
   "outputs": [
    {
     "name": "stderr",
     "output_type": "stream",
     "text": [
      "/usr/local/lib/python2.7/site-packages/IPython/html.py:14: ShimWarning: The `IPython.html` package has been deprecated. You should import from `notebook` instead. `IPython.html.widgets` has moved to `ipywidgets`.\n",
      "  \"`IPython.html.widgets` has moved to `ipywidgets`.\", ShimWarning)\n"
     ]
    }
   ],
   "source": [
    "import math\n",
    "import numpy as np\n",
    "import glob\n",
    "import seaborn as sns\n",
    "from matplotlib import pyplot as plt\n",
    "#%matplotlib inline"
   ]
  },
  {
   "cell_type": "markdown",
   "metadata": {},
   "source": [
    "## README: Formatting origin-destination tsv files as BEAST GLM linearized matrices\n",
    "\n",
    "Once linearized, the 1D predictor matrix should be length_matrix times length_matrix - 1 long. This is because the diagonal values (eg canada to canada) are removed from the linearized matrix before it is put in the xml. Thus, if you have 45 countries in your GLM, then the linearized matrix should be 45 * 44 entries long. \n",
    "\n",
    "Note that indexing for GLM matrices in BEAST is also a little different. All entries to the top of the diagonal are sequentially filled in first, row by row. Then cell entries on the bottom of the matrix are filled in, column by column.\n",
    "\n",
    "XXXXXXX| usa |canada| mexico\n",
    "-------|-----|-------|-------\n",
    "usa    |XXXXX|  0    | 1\n",
    "canada |3    |XXXXXXX| 2\n",
    "mexico |4    |  5    | XXXXXX\n",
    "\n",
    "When linearized for the xml, the above predictor matrix takes the form of `[0, 1, 2, 3, 4, 5]`.\n",
    "\n",
    "If we have a dictionary, where the index is the key, and the value is a tuple, in form `(origin, destination)`, then the dictionary should look like this:\n",
    "\n",
    "`{0: ('usa', 'canada'), 1: ('usa', 'mexico'), 2: ('canada', 'mexico'), 3: ('canada', 'usa'), 4: ('mexico', 'usa'), 5: ('mexico', 'canada')}`\n"
   ]
  },
  {
   "cell_type": "code",
   "execution_count": 2,
   "metadata": {
    "collapsed": false
   },
   "outputs": [],
   "source": [
    "# specify functions\n",
    "\n",
    "def logMatrix(matrix):\n",
    "    logged_matrix = [np.log(value) for value in matrix]\n",
    "    return logged_matrix\n",
    "\n",
    "def standardizeMatrix(matrix):\n",
    "    mean = np.nanmean(matrix)\n",
    "    stdev = np.nanstd(matrix)\n",
    "    standardized_matrix = [(value - mean)/stdev for value in matrix if value != float('nan')] #if value is nan, then will be in std matrix as nan too\n",
    "    return standardized_matrix\n",
    "\n",
    "def make_GLMmatrix(predictor_dict,predictor_name_string,lnTransform=True):\n",
    "    linearized_predictor = []\n",
    "    for i in range(len(predictor_dict)):\n",
    "        try: \n",
    "            linearized_predictor.append(predictor_dict[i][predictor_name_string])\n",
    "        except KeyError:\n",
    "            linearized_predictor.append(float('nan')) #allows missing data for countries without pax volume\n",
    "    if lnTransform == True:\n",
    "        logged_matrix = logMatrix(linearized_predictor)\n",
    "        GLM_matrix = standardizeMatrix(logged_matrix)\n",
    "    elif lnTransform == False:\n",
    "        GLM_matrix = standardizeMatrix(linearized_predictor)\n",
    "    return GLM_matrix\n"
   ]
  },
  {
   "cell_type": "markdown",
   "metadata": {},
   "source": [
    "### Initially try everything out on a test dataset.\n",
    "\n",
    "I've made a little test tsv file, and have a small list of three countries that I want to set up predictors for. Just making sure here that everything is working the way I think it should on a dataset that's small enough that I can spot errors easily."
   ]
  },
  {
   "cell_type": "code",
   "execution_count": 3,
   "metadata": {
    "collapsed": false
   },
   "outputs": [
    {
     "name": "stdout",
     "output_type": "stream",
     "text": [
      "{0: {'country_pair': ('united_states', 'canada')}, 1: {'country_pair': ('united_states', 'mexico')}, 2: {'country_pair': ('canada', 'mexico')}, 3: {'country_pair': ('canada', 'united_states')}, 4: {'country_pair': ('mexico', 'united_states')}, 5: {'country_pair': ('mexico', 'canada')}}\n"
     ]
    }
   ],
   "source": [
    "# code to make the indexing dictionaries, adapted from Gytis Dudas' EBOV iPython notebook.\n",
    "# nothing crazy, just math to deal with the funky GLM indexing.\n",
    "test_countries = ['united_states','canada','mexico']\n",
    "test_predictor_dict={}\n",
    "matrix_length=len(test_countries)\n",
    "\n",
    "for i in range(len(test_countries)):\n",
    "    for j in range(i+1,len(test_countries)): #make the second iteration 1 shorter than the first\n",
    "        index_1=int((matrix_length*(matrix_length-1)/2) - (matrix_length-i)*((matrix_length-i)-1)/2 + j - i - 1)\n",
    "        index_2=int((matrix_length*(matrix_length-1)) - (matrix_length-i)*((matrix_length-i)-1)/2 + j - i - 1)\n",
    "\n",
    "        test_predictor_dict[index_1] = {'country_pair':(test_countries[i],test_countries[j])}\n",
    "        test_predictor_dict[index_2] = {'country_pair':(test_countries[j],test_countries[i])}\n",
    "\n",
    "print test_predictor_dict"
   ]
  },
  {
   "cell_type": "code",
   "execution_count": 4,
   "metadata": {
    "collapsed": false
   },
   "outputs": [
    {
     "name": "stdout",
     "output_type": "stream",
     "text": [
      "{0: {'country_pair': ('united_states', 'canada'), 'great_circle_dist_km': 1077.10699074}, 1: {'country_pair': ('united_states', 'mexico'), 'great_circle_dist_km': 1922.06469662}, 2: {'country_pair': ('canada', 'mexico'), 'great_circle_dist_km': 2997.40071085}, 3: {'country_pair': ('canada', 'united_states'), 'great_circle_dist_km': 1077.10699074}, 4: {'country_pair': ('mexico', 'united_states'), 'great_circle_dist_km': 1922.06469662}, 5: {'country_pair': ('mexico', 'canada'), 'great_circle_dist_km': 2997.40071085}}\n"
     ]
    }
   ],
   "source": [
    "# try importing test predictor set, and assigning great circle distances\n",
    "\n",
    "test_infile = '/Users/alliblk/Desktop/gitrepos/zika-usvi/data/glm/origin-destin-formatted-data/origin-destination-TEST.tsv'\n",
    "with open(test_infile,'rU') as file:\n",
    "    for line in file:\n",
    "        if line.startswith('origin'): # this line is the header of the tsv\n",
    "            predictor  = line.strip().split('\\t')[2] #predictor name in the tsv is what it will be called in dict\n",
    "        else:\n",
    "            country_tuple = (line.split('\\t')[0],line.split('\\t')[1]) # origin,destination tuple\n",
    "            for key in test_predictor_dict.keys():\n",
    "                if test_predictor_dict[key]['country_pair'] == country_tuple:\n",
    "                    test_predictor_dict[key][predictor] = float(line.strip().split('\\t')[2])\n",
    "print test_predictor_dict"
   ]
  },
  {
   "cell_type": "code",
   "execution_count": 6,
   "metadata": {
    "collapsed": false
   },
   "outputs": [
    {
     "name": "stdout",
     "output_type": "stream",
     "text": [
      "('united_states', 'canada')\n",
      "('united_states', 'mexico')\n",
      "('canada', 'mexico')\n",
      "('canada', 'united_states')\n",
      "('mexico', 'united_states')\n",
      "('mexico', 'canada')\n",
      "[1077.10699074, 1922.06469662, 2997.40071085, 1077.10699074, 1922.06469662, 2997.40071085]\n"
     ]
    }
   ],
   "source": [
    "# CHECK TO MAKE SURE EVERYTHING IS WORKING RIGHT!!! Should match up with indexing of markdown table above.\n",
    "test_linearized_predictor = []\n",
    "\n",
    "for i in range(len(test_predictor_dict)):\n",
    "    print test_predictor_dict[i]['country_pair']\n",
    "    test_linearized_predictor.append(test_predictor_dict[i]['great_circle_dist_km'])\n",
    "\n",
    "print test_linearized_predictor"
   ]
  },
  {
   "cell_type": "code",
   "execution_count": 7,
   "metadata": {
    "collapsed": false
   },
   "outputs": [
    {
     "name": "stdout",
     "output_type": "stream",
     "text": [
      "[6.9820340136708214, 7.5611552500563279, 8.0055007623664025, 6.9820340136708214, 7.5611552500563279, 8.0055007623664025]\n",
      "7.5162300087\n",
      "0.41903440941\n"
     ]
    }
   ],
   "source": [
    "#try out log transforming matrix\n",
    "testLog_predictor = logMatrix(test_linearized_predictor)\n",
    "print testLog_predictor #yes, this looks right\n",
    "print np.mean(testLog_predictor)\n",
    "print np.std(testLog_predictor)"
   ]
  },
  {
   "cell_type": "code",
   "execution_count": 13,
   "metadata": {
    "collapsed": false
   },
   "outputs": [
    {
     "name": "stdout",
     "output_type": "stream",
     "text": [
      "[-1.2748260835639709, 0.10721134195567286, 1.1676147416082978, -1.2748260835639709, 0.10721134195567286, 1.1676147416082978]\n",
      "[-1.2748260835639709, 0.10721134195567286, 1.1676147416082978, -1.2748260835639709, 0.10721134195567286, 1.1676147416082978]\n"
     ]
    }
   ],
   "source": [
    "test_std = std_matrix = standardizeMatrix(testLog_predictor)\n",
    "double_check_std = [(value-np.mean(testLog_predictor))/np.std(testLog_predictor) for value in testLog_predictor]\n",
    "print test_std\n",
    "print double_check_std\n",
    "assert test_std == double_check_std, 'something wrong with standardization code'"
   ]
  },
  {
   "cell_type": "code",
   "execution_count": 14,
   "metadata": {
    "collapsed": false
   },
   "outputs": [
    {
     "name": "stdout",
     "output_type": "stream",
     "text": [
      "[-1.2748260835639709, 0.10721134195567286, 1.1676147416082978, -1.2748260835639709, 0.10721134195567286, 1.1676147416082978]\n",
      "[-1.2748260835639709, 0.10721134195567286, 1.1676147416082978, -1.2748260835639709, 0.10721134195567286, 1.1676147416082978]\n",
      "[-1.1729568426582233, -0.097721245395403278, 1.2706780880536279, -1.1729568426582233, -0.097721245395403278, 1.2706780880536279]\n",
      "[-1.1729568426582233, -0.097721245395403278, 1.2706780880536279, -1.1729568426582233, -0.097721245395403278, 1.2706780880536279]\n"
     ]
    }
   ],
   "source": [
    "#test that function that includes logging and standardizing does the same thing:\n",
    "lntransformed_test_matrix = make_GLMmatrix(test_predictor_dict,'great_circle_dist_km',lnTransform=True)\n",
    "no_lntransform_test_matrix = make_GLMmatrix(test_predictor_dict,'great_circle_dist_km',lnTransform=False)\n",
    "\n",
    "print test_std\n",
    "print lntransformed_test_matrix #should match test_std with is logged then standardized.\n",
    "print no_lntransform_test_matrix #should be different, only standardized, no logging.\n",
    "\n",
    "raw_mean = np.mean(test_linearized_predictor)\n",
    "raw_std = np.std(test_linearized_predictor)\n",
    "double_check_std_noLog = double_check_std = [(value-raw_mean)/raw_std for value in test_linearized_predictor]\n",
    "print double_check_std_noLog"
   ]
  },
  {
   "cell_type": "markdown",
   "metadata": {},
   "source": [
    "Test out writing the predictor matrices to file as they'll need to be formatted for BEAST xml."
   ]
  },
  {
   "cell_type": "code",
   "execution_count": 15,
   "metadata": {
    "collapsed": false
   },
   "outputs": [],
   "source": [
    "test_outfile = '/Users/alliblk/Desktop/gitrepos/zika-usvi/data/glm/transformed-linearized-matrices/test-matrix.txt'\n",
    "xml_template ='''\\n<!-- predictor: {long_form_name} -->\\n<parameter id=\"{short_form_name}\" value=\"{values}\"/>\\n'''\n",
    "\n",
    "test_predictor = xml_template.format(long_form_name='Test predictor matrix, great circle dists',short_form_name='test_predictor', values = ' '.join(str(value) for value in lntransformed_test_matrix))\n",
    "with open(test_outfile,'w') as file:\n",
    "    file.write(test_predictor)\n",
    "    file.write(test_predictor)"
   ]
  },
  {
   "cell_type": "markdown",
   "metadata": {},
   "source": [
    "### Testing looks good. Now we'll do it for the full set of 45 countries to include in the GLM. \n",
    "\n",
    "1) Import from indexed-countries-45.tsv to get the full list of countries that will be used.\n",
    "2) Start by importing all countryXcountry great circle distances."
   ]
  },
  {
   "cell_type": "code",
   "execution_count": 16,
   "metadata": {
    "collapsed": false
   },
   "outputs": [
    {
     "name": "stdout",
     "output_type": "stream",
     "text": [
      "['canada', 'united_states', 'bermuda', 'mexico', 'belize', 'guatemala', 'honduras', 'el_salvador', 'nicaragua', 'costa_rica', 'panama', 'bahamas', 'cuba', 'turks_caicos_islands', 'cayman_islands', 'jamaica', 'haiti', 'dominican_republic', 'puerto_rico', 'united_states_virgin_islands', 'saint_kitts_nevis', 'antigua_barbuda', 'guadeloupe', 'dominica', 'martinique', 'saint_lucia', 'saint_vincent_grenadines', 'barbados', 'grenada', 'trinidad_tobago', 'curacao', 'aruba', 'french_guiana', 'suriname', 'guyana', 'venezuela', 'colombia', 'ecuador', 'peru', 'bolivia', 'brazil', 'paraguay', 'uruguay', 'argentina', 'chile']\n",
      "\n",
      " 45 countries included in analysis\n"
     ]
    }
   ],
   "source": [
    "with open('/Users/alliblk/Desktop/gitrepos/zika-usvi/data/glm/indexed-countries-45.tsv') as file:\n",
    "    countries_list = [line.strip().split('\\t')[0] for line in file if not line.startswith('country')]\n",
    "    \n",
    "print countries_list #this should be ordered north to south\n",
    "\n",
    "print '\\n {} countries included in analysis'.format(len(countries_list)) #this should be 45"
   ]
  },
  {
   "cell_type": "code",
   "execution_count": 17,
   "metadata": {
    "collapsed": false
   },
   "outputs": [],
   "source": [
    "#make predictor dictionary. Index is key, value is dict with origin,destination tuple.\n",
    "\n",
    "predictor_dict = {}\n",
    "\n",
    "matrix_length=len(countries_list)\n",
    "\n",
    "for i in range(len(countries_list)):\n",
    "    for j in range(i+1,len(countries_list)): #make the second iteration 1 shorter than the first\n",
    "        index_1=int((matrix_length*(matrix_length-1)/2) - (matrix_length-i)*((matrix_length-i)-1)/2 + j - i - 1)\n",
    "        index_2=int((matrix_length*(matrix_length-1)) - (matrix_length-i)*((matrix_length-i)-1)/2 + j - i - 1)\n",
    "\n",
    "        predictor_dict[index_1] = {'country_pair':(countries_list[i],countries_list[j])}\n",
    "        predictor_dict[index_2] = {'country_pair':(countries_list[j],countries_list[i])}\n",
    "\n",
    "assert len(predictor_dict) == len(countries_list)**2 - len(countries_list), 'predictor dictionary malformed'"
   ]
  },
  {
   "cell_type": "markdown",
   "metadata": {},
   "source": [
    "#### As a reference, I'm going to write the index for each country pair to a tsv file."
   ]
  },
  {
   "cell_type": "code",
   "execution_count": 18,
   "metadata": {
    "collapsed": false
   },
   "outputs": [],
   "source": [
    "with open('/Users/alliblk/Desktop/gitrepos/zika-usvi/data/glm/index-countrypair-mapping.tsv','w') as file:\n",
    "    file.write('{}\\t{}\\n'.format('index', 'country_pair'))\n",
    "    for i in range(len(predictor_dict)):\n",
    "        file.write('{}\\t{}\\n'.format(i, predictor_dict[i]['country_pair']))"
   ]
  },
  {
   "cell_type": "markdown",
   "metadata": {},
   "source": [
    "## Add predictor values to the dictionary based on key matching of the country pair tuple.\n",
    "\n",
    "Using glob I'm going to loop through all the predictor files that I have in my `origin-destination` directory, and import them into the predictors dictionary."
   ]
  },
  {
   "cell_type": "code",
   "execution_count": 19,
   "metadata": {
    "collapsed": false
   },
   "outputs": [
    {
     "name": "stdout",
     "output_type": "stream",
     "text": [
      "importing predictor from /Users/alliblk/Desktop/gitrepos/zika-usvi/data/glm/origin-destin-formatted-data/destination-population-size.tsv\n",
      "importing predictor from /Users/alliblk/Desktop/gitrepos/zika-usvi/data/glm/origin-destin-formatted-data/destination-suitability.tsv\n",
      "importing predictor from /Users/alliblk/Desktop/gitrepos/zika-usvi/data/glm/origin-destin-formatted-data/destination-urban-proportion.tsv\n",
      "importing predictor from /Users/alliblk/Desktop/gitrepos/zika-usvi/data/glm/origin-destin-formatted-data/origin-destin-great-circle-dists.tsv\n",
      "importing predictor from /Users/alliblk/Desktop/gitrepos/zika-usvi/data/glm/origin-destin-formatted-data/origin-destin-north-south-indicator.tsv\n",
      "importing predictor from /Users/alliblk/Desktop/gitrepos/zika-usvi/data/glm/origin-destin-formatted-data/origin-destin-pax-volume.tsv\n",
      "importing predictor from /Users/alliblk/Desktop/gitrepos/zika-usvi/data/glm/origin-destin-formatted-data/origin-population-size.tsv\n",
      "importing predictor from /Users/alliblk/Desktop/gitrepos/zika-usvi/data/glm/origin-destin-formatted-data/origin-suitability.tsv\n",
      "importing predictor from /Users/alliblk/Desktop/gitrepos/zika-usvi/data/glm/origin-destin-formatted-data/origin-urban-proportion.tsv\n",
      "finished\n"
     ]
    }
   ],
   "source": [
    "input_dir = \"/Users/alliblk/Desktop/gitrepos/zika-usvi/data/glm/origin-destin-formatted-data/*.tsv\"\n",
    "\n",
    "for fname in glob.glob(input_dir):\n",
    "    #skip testing tsv\n",
    "    if fname == '/Users/alliblk/Desktop/gitrepos/zika-usvi/data/glm/origin-destin-formatted-data/origin-destination-TEST.tsv':\n",
    "        continue\n",
    "    else:\n",
    "        with open(fname,'rU') as file:\n",
    "            print 'importing predictor from {}'.format(fname)\n",
    "            for line in file:\n",
    "                if line.startswith('origin'): # this line is the header of the tsv\n",
    "                    predictor  = line.strip().split('\\t')[2] #predictor name in the tsv is what it will be called in dict\n",
    "                else:\n",
    "                    country_tuple = (line.split('\\t')[0],line.split('\\t')[1]) # origin,destination tuple\n",
    "                    for key in predictor_dict.keys(): #iterate through the indices\n",
    "                        if predictor_dict[key]['country_pair'] == country_tuple:\n",
    "                            predictor_dict[key][predictor] = float(line.strip().split('\\t')[2])\n",
    "print 'finished'"
   ]
  },
  {
   "cell_type": "markdown",
   "metadata": {},
   "source": [
    "## Deal with countries with no passenger air travel between them\n",
    "\n",
    "For the passenger volume data, if there was no volume between two locations, there was no entry in the original tsv file. However, because the indexing is important for the GLM, I need all country pairs to have some value of air traffic between them. Therefore, I'm going to make the `pax_volume` value equal`0` if `PAXvolume` does not exist for a country pair (doing this by leveraging a `KeyError`).\n",
    "\n",
    "To keep tabs on things while I do this I'm also going to write country pairs without pax volume to a file."
   ]
  },
  {
   "cell_type": "code",
   "execution_count": 23,
   "metadata": {
    "collapsed": false
   },
   "outputs": [],
   "source": [
    "# make note of which country pairs do not have any travel between them, and their indices!\n",
    "\n",
    "with open('/Users/alliblk/Desktop/gitrepos/zika-usvi/data/glm/countries-without-pax-volume.tsv','w') as file:\n",
    "    file.write('{}\\t{}\\n'.format('index', 'country_pair_without_pax_volume'))\n",
    "    for i in range(len(predictor_dict)):\n",
    "        try:\n",
    "            predictor_dict[i]['pax_volume']\n",
    "        except KeyError: #make pax volume = 0 if there's no record of pax volume between two countries from the input data file\n",
    "            file.write('{}\\t{}\\n'.format(i, predictor_dict[i]['country_pair']))\n",
    "            predictor_dict[i]['pax_volume'] = 0.0"
   ]
  },
  {
   "cell_type": "markdown",
   "metadata": {},
   "source": [
    "### Make GLM matrices (ln-transform[optional] and standardize)"
   ]
  },
  {
   "cell_type": "code",
   "execution_count": 74,
   "metadata": {
    "collapsed": false
   },
   "outputs": [],
   "source": [
    "gcd_transformed = make_GLMmatrix(predictor_dict,'great_circle_dist_km',lnTransform=True)\n",
    "\n",
    "originPopSz_transformed = make_GLMmatrix(predictor_dict,'origin_population_size',lnTransform=True)\n",
    "destinPopSz_transformed = make_GLMmatrix(predictor_dict,'destination_population_size',lnTransform=True)\n",
    "\n",
    "#Do not ln-transform because values are 0 to 1, still standardize\n",
    "originPropUrban_transformed = make_GLMmatrix(predictor_dict,'origin_urban_proportion',lnTransform=False)\n",
    "destinPropUrban_transformed = make_GLMmatrix(predictor_dict,'destination_urban_proportion',lnTransform=False)\n",
    "\n",
    "#Do not ln-transform because values are 0 to 1, still standardize\n",
    "originSuitability_transformed = make_GLMmatrix(predictor_dict,'origin_zika_suitability',lnTransform=False)\n",
    "destinSuitability_transformed = make_GLMmatrix(predictor_dict,'destination_zika_suitability',lnTransform=False)\n"
   ]
  },
  {
   "cell_type": "markdown",
   "metadata": {},
   "source": [
    "## I'm dealing with the Passenger air traffic (pax) volume and North-South indicator predictors a little bit differently, so I'm making the standardized matrices outside of my functions, below.\n",
    "\n",
    "1) The North-South indicator does not need to be standardized.\n",
    "\n",
    "The north-south indicator is perfectly symmetrical with values 1 and -1. This means that the mean of the matrix is 0, and the standard deviation is 1. Therefore, standardizing the matrix [(value - mean)/stdev] == value - 0/1. Thus the standardized matrix is exactly the same as the input matrix.\n",
    "\n",
    "A bit of testing showing this is below.\n",
    "\n",
    "2) Pax volume needs to be ln-transformed and standardized, but it has some values that are 0 (no air traffic between a country set). \n",
    "\n",
    "Since the ln(0) is -inf, we need to _not_ ln-transform if the value equals 0. However we still need to count those 0 values when we standardize the matrix. This could be done within the function I've written above, but for transparency I'm doing it step by step below."
   ]
  },
  {
   "cell_type": "code",
   "execution_count": 33,
   "metadata": {
    "collapsed": false
   },
   "outputs": [],
   "source": [
    "#non-standardized matrix, is exactly the same as the input matrix (values untransformed from what's in dict)\n",
    "north_south_linearized_predictor = []\n",
    "for i in range(len(predictor_dict)):\n",
    "    north_south_linearized_predictor.append(predictor_dict[i]['north_south_indicator'])\n",
    "\n",
    "#standardized matrix, if I were to use my GLM matrix function, although not lnTransforming (not necessary, already on right scale)\n",
    "north_south_transformed = make_GLMmatrix(predictor_dict,'north_south_indicator',lnTransform=False)\n",
    "\n",
    "assert north_south_linearized_predictor == north_south_transformed, 'input matrix and standardized matrix differ, check for code errors'"
   ]
  },
  {
   "cell_type": "code",
   "execution_count": 34,
   "metadata": {
    "collapsed": false
   },
   "outputs": [
    {
     "name": "stdout",
     "output_type": "stream",
     "text": [
      "1980\n"
     ]
    }
   ],
   "source": [
    "#showing what I'm doing now for PAX volume predictor matrix\n",
    "pax_linearized_predictor = []\n",
    "for i in range(len(predictor_dict)):\n",
    "    pax_linearized_predictor.append(predictor_dict[i]['pax_volume'])\n",
    "print len(pax_linearized_predictor) #should be 1980 since we filled in no pax countries with 0.\n",
    "\n",
    "lntransformed_pax = [np.log(value) if value != 0.0 else value for value in pax_linearized_predictor]\n",
    "mean_lnpax = np.nanmean(lntransformed_pax)\n",
    "stdev_lnpax  = np.nanstd(lntransformed_pax)\n",
    "lnpax_standardized = [(value - mean_lnpax)/stdev_lnpax for value in lntransformed_pax]"
   ]
  },
  {
   "cell_type": "code",
   "execution_count": 36,
   "metadata": {
    "collapsed": false
   },
   "outputs": [],
   "source": [
    "#ensure that correct indexing of the linear predictor has been maintained.\n",
    "for a,b in zip(pax_linearized_predictor,lntransformed_pax):\n",
    "    if a == 0:\n",
    "        continue\n",
    "    else:\n",
    "        try:\n",
    "            assert np.log(a) == b, \"linearized predictor and lntransformed predictor not aligned, check for indexing issues\"\n",
    "        except AssertionError, e:\n",
    "            raise Exception(e.args[0])   "
   ]
  },
  {
   "cell_type": "code",
   "execution_count": null,
   "metadata": {
    "collapsed": false
   },
   "outputs": [],
   "source": []
  },
  {
   "cell_type": "markdown",
   "metadata": {},
   "source": [
    "Print out predictors to file in correct format for BEAST."
   ]
  },
  {
   "cell_type": "code",
   "execution_count": 117,
   "metadata": {
    "collapsed": true
   },
   "outputs": [],
   "source": [
    "predictors_outfile = '/Users/alliblk/Desktop/gitrepos/zika-usvi/data/glm/transformed-linearized-matrices/xml-formatted-predictors.txt'\n",
    "xml_template ='''\\n<!-- predictor: {long_form_name} -->\\n<parameter id=\"{short_form_name}\" value=\"{values}\"/>\\n'''\n",
    "\n",
    "gcd_predictor = xml_template.format(long_form_name='Great circle distances between population-weighted centroids, ln-transformed, standardized',short_form_name='great_circle_distances', values = ' '.join(str(value) for value in gcd_transformed))\n",
    "pax_predictor = xml_template.format(long_form_name='Air traffic passenger volume between countries, ln-transformed, standardized',short_form_name='pax_volume', values = ' '.join(str(value) for value in lnpax_standardized))\n",
    "originPopSz_predictor = xml_template.format(long_form_name='Country population size at ORIGIN, ln-transformed, standardized',short_form_name='origin_population_size', values = ' '.join(str(value) for value in originPopSz_transformed))\n",
    "destinPopSz_predictor = xml_template.format(long_form_name='Country population size at DESTINATION, ln-transformed, standardized',short_form_name='destination_population_size', values = ' '.join(str(value) for value in destinPopSz_transformed))\n",
    "originPropUrban_predictor = xml_template.format(long_form_name='Proportion of population living in an urban center, at ORIGIN, standardized',short_form_name='origin_proportion_urban', values = ' '.join(str(value) for value in originPropUrban_transformed))\n",
    "destinPropUrban_predictor = xml_template.format(long_form_name='Proportion of population living in an urban center, at DESTINATION, standardized',short_form_name='destination_proportion_urban', values = ' '.join(str(value) for value in destinPropUrban_transformed))\n",
    "originSuitability_predictor = xml_template.format(long_form_name='Zika environmental suitability at ORIGIN, standardized',short_form_name='origin_suitability', values = ' '.join(str(value) for value in originSuitability_transformed))\n",
    "destinSuitability_predictor = xml_template.format(long_form_name='Zika environmental suitability at DESTINATION, standardized',short_form_name='destination_suitability', values = ' '.join(str(value) for value in destinSuitability_transformed))\n",
    "northSouth_predictor = xml_template.format(long_form_name='Indicator of north/south relationship between a pair of population weighted centroids',short_form_name='north_south_predictor', values = ' '.join(str(value) for value in north_south_linearized_predictor))\n",
    "\n",
    "with open(predictors_outfile,'w') as file:\n",
    "    file.write(gcd_predictor)\n",
    "    file.write(pax_predictor)\n",
    "    file.write(originPopSz_predictor)\n",
    "    file.write(destinPopSz_predictor)\n",
    "    file.write(originPropUrban_predictor)\n",
    "    file.write(destinPropUrban_predictor)\n",
    "    file.write(originSuitability_predictor)\n",
    "    file.write(destinSuitability_predictor)\n",
    "    file.write(northSouth_predictor)\n",
    "    file.close()"
   ]
  },
  {
   "cell_type": "code",
   "execution_count": 1,
   "metadata": {
    "collapsed": false
   },
   "outputs": [
    {
     "ename": "NameError",
     "evalue": "name 'np' is not defined",
     "output_type": "error",
     "traceback": [
      "\u001b[0;31m---------------------------------------------------------------------------\u001b[0m",
      "\u001b[0;31mNameError\u001b[0m                                 Traceback (most recent call last)",
      "\u001b[0;32m<ipython-input-1-3088c0113beb>\u001b[0m in \u001b[0;36m<module>\u001b[0;34m()\u001b[0m\n\u001b[0;32m----> 1\u001b[0;31m \u001b[0;32mprint\u001b[0m \u001b[0mnp\u001b[0m\u001b[0;34m.\u001b[0m\u001b[0mnanmean\u001b[0m\u001b[0;34m(\u001b[0m\u001b[0mpax_volume_transformed\u001b[0m\u001b[0;34m)\u001b[0m\u001b[0;34m\u001b[0m\u001b[0m\n\u001b[0m\u001b[1;32m      2\u001b[0m \u001b[0;32mprint\u001b[0m \u001b[0mnp\u001b[0m\u001b[0;34m.\u001b[0m\u001b[0mnanstd\u001b[0m\u001b[0;34m(\u001b[0m\u001b[0mpax_volume_transformed\u001b[0m\u001b[0;34m)\u001b[0m\u001b[0;34m\u001b[0m\u001b[0m\n\u001b[1;32m      3\u001b[0m \u001b[0mnon_nan_pax_transformed\u001b[0m \u001b[0;34m=\u001b[0m \u001b[0;34m[\u001b[0m\u001b[0mvalue\u001b[0m \u001b[0;32mfor\u001b[0m \u001b[0mvalue\u001b[0m \u001b[0;32min\u001b[0m \u001b[0mpax_volume_transformed\u001b[0m \u001b[0;32mif\u001b[0m \u001b[0;32mnot\u001b[0m \u001b[0mnp\u001b[0m\u001b[0;34m.\u001b[0m\u001b[0misnan\u001b[0m\u001b[0;34m(\u001b[0m\u001b[0mvalue\u001b[0m\u001b[0;34m)\u001b[0m\u001b[0;34m]\u001b[0m\u001b[0;34m\u001b[0m\u001b[0m\n\u001b[1;32m      4\u001b[0m \u001b[0;32mprint\u001b[0m \u001b[0mlen\u001b[0m\u001b[0;34m(\u001b[0m\u001b[0mnon_nan_pax_transformed\u001b[0m\u001b[0;34m)\u001b[0m\u001b[0;34m\u001b[0m\u001b[0m\n\u001b[1;32m      5\u001b[0m \u001b[0;31m#there are 125 entries that are nan\u001b[0m\u001b[0;34m\u001b[0m\u001b[0;34m\u001b[0m\u001b[0m\n",
      "\u001b[0;31mNameError\u001b[0m: name 'np' is not defined"
     ]
    }
   ],
   "source": [
    "print np.nanmean(pax_volume_transformed)\n",
    "print np.nanstd(pax_volume_transformed)\n",
    "non_nan_pax_transformed = [value for value in pax_volume_transformed if not np.isnan(value)]\n",
    "print len(non_nan_pax_transformed)\n",
    "#there are 125 entries that are nan\n",
    "#print pax_volume_transformed\n",
    "fig,ax = plt.subplots(figsize=(5,5),facecolor='w')\n",
    "plt.xlabel = ('Minimum Hamming Distance')\n",
    "plt.ylabel = \"Number of Simulations\"\n",
    "plt.hist(non_nan_pax_transformed, color=\"grey\", bins=20)\n",
    "plt.show()"
   ]
  },
  {
   "cell_type": "code",
   "execution_count": 140,
   "metadata": {
    "collapsed": false
   },
   "outputs": [
    {
     "data": {
      "image/png": "[encoded data removed]",
      "text/plain": [
       "<matplotlib.figure.Figure at 0x115aa7910>"
      ]
     },
     "metadata": {},
     "output_type": "display_data"
    }
   ],
   "source": [
    "fig,ax = plt.subplots(figsize=(5,5),facecolor='w')\n",
    "plt.xlabel = ('Minimum Hamming Distance')\n",
    "plt.ylabel = \"Number of Simulations\"\n",
    "plt.hist(originPopSz_transformed, color=\"grey\", bins=10)\n",
    "plt.show()\n",
    "#plt.savefig('trial.png')"
   ]
  },
  {
   "cell_type": "code",
   "execution_count": 125,
   "metadata": {
    "collapsed": false
   },
   "outputs": [
    {
     "data": {
      "image/png": "[encoded data removed]",
      "text/plain": [
       "<matplotlib.figure.Figure at 0x11528d8d0>"
      ]
     },
     "metadata": {},
     "output_type": "display_data"
    }
   ],
   "source": [
    "fig,ax = plt.subplots(figsize=(5,5),facecolor='w')\n",
    "plt.xlabel = ('Minimum Hamming Distance')\n",
    "plt.ylabel = \"Number of Simulations\"\n",
    "plt.hist(destinPopSz_transformed)\n",
    "plt.show()"
   ]
  },
  {
   "cell_type": "code",
   "execution_count": 141,
   "metadata": {
    "collapsed": false
   },
   "outputs": [
    {
     "data": {
      "image/png": "[encoded data removed]",
      "text/plain": [
       "<matplotlib.figure.Figure at 0x115d2df90>"
      ]
     },
     "metadata": {},
     "output_type": "display_data"
    }
   ],
   "source": [
    "fig,ax = plt.subplots(figsize=(5,5),facecolor='w')\n",
    "plt.xlabel = ('Minimum Hamming Distance')\n",
    "plt.ylabel = \"Number of Simulations\"\n",
    "plt.hist(originPropUrban_transformed, color=\"grey\", bins=10)\n",
    "plt.show()"
   ]
  },
  {
   "cell_type": "code",
   "execution_count": 144,
   "metadata": {
    "collapsed": false
   },
   "outputs": [
    {
     "data": {
      "image/png": "[encoded data removed]",
      "text/plain": [
       "<matplotlib.figure.Figure at 0x114981810>"
      ]
     },
     "metadata": {},
     "output_type": "display_data"
    }
   ],
   "source": [
    "fig,ax = plt.subplots(figsize=(5,5),facecolor='w')\n",
    "x = pd.Series(originSuitability_transformed, name=\"x variable\")\n",
    "ax = sb.distplot(x)\n",
    "\n",
    "plt.xlabel = ('Minimum Hamming Distance')\n",
    "plt.ylabel = \"Number of Simulations\"\n",
    "plt.hist(originSuitability_transformed, color=\"grey\", bins=10)\n",
    "plt.show()"
   ]
  },
  {
   "cell_type": "code",
   "execution_count": 143,
   "metadata": {
    "collapsed": false
   },
   "outputs": [
    {
     "data": {
      "image/png": "[encoded data removed]",
      "text/plain": [
       "<matplotlib.figure.Figure at 0x115d2ddd0>"
      ]
     },
     "metadata": {},
     "output_type": "display_data"
    }
   ],
   "source": [
    "#sb.distplot(north_south_transformed)\n",
    "#sb.distplot(originSuitability_transformed)\n",
    "fig,ax = plt.subplots(figsize=(5,5),facecolor='w')\n",
    "\n",
    "import pandas as pd\n",
    "x = pd.Series(originSuitability_transformed, name=\"x variable\")\n",
    "ax = sns.distplot(x)"
   ]
  },
  {
   "cell_type": "code",
   "execution_count": null,
   "metadata": {
    "collapsed": true
   },
   "outputs": [],
   "source": []
  },
  {
   "cell_type": "code",
   "execution_count": 19,
   "metadata": {
    "collapsed": false
   },
   "outputs": [
    {
     "name": "stdout",
     "output_type": "stream",
     "text": [
      "('haiti', 'suriname')\n",
      "6670.0\n"
     ]
    }
   ],
   "source": [
    "print predictor_dict[600]['country_pair']\n",
    "print predictor_dict[600]['pax_volume']"
   ]
  }
 ],
 "metadata": {
  "kernelspec": {
   "display_name": "Python 2",
   "language": "python",
   "name": "python2"
  },
  "language_info": {
   "codemirror_mode": {
    "name": "ipython",
    "version": 2
   },
   "file_extension": ".py",
   "mimetype": "text/x-python",
   "name": "python",
   "nbconvert_exporter": "python",
   "pygments_lexer": "ipython2",
   "version": "2.7.10"
  }
 },
 "nbformat": 4,
 "nbformat_minor": 0
}

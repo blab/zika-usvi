{
 "cells": [
  {
   "cell_type": "markdown",
   "metadata": {},
   "source": [
    "## README: Pairwise predictors\n",
    "\n",
    "The following predictors are inherently pairwise:\n",
    "\n",
    "* Great circle distances between countries' population-weighted centroids\n",
    "* Passenger air travel between countries\n",
    "* Indicator of north-south relationship between countries\n",
    "\n",
    "The output files for pairwise predictors are written as a single long edge tsv file, with both the origin and the destination specified. For example:\n",
    "\n",
    "origin          | destination       | value\n",
    "----------------|-------------------| ----\n",
    "united_states   |    mexico         |   XXX\n",
    "mexico          |    united_states  |   ZZZ\n",
    "\n",
    "A bit more information about each of the predictors and its construction is given before the relevant code block. \n"
   ]
  },
  {
   "cell_type": "code",
   "execution_count": 3,
   "metadata": {
    "collapsed": true
   },
   "outputs": [],
   "source": [
    "#import packages\n",
    "import re\n",
    "from geopy.distance import great_circle"
   ]
  },
  {
   "cell_type": "code",
   "execution_count": 38,
   "metadata": {
    "collapsed": true
   },
   "outputs": [],
   "source": [
    "#input file paths\n",
    "countries_file = '/Users/alliblk/Desktop/gitrepos/zika-usvi/data/glm/indexed-countries-45.tsv'\n",
    "wt_centroids_infile = '/Users/alliblk/Desktop/gitrepos/zika-usvi/data/glm/standardized-data/std-population-weighted-centroids.tsv'\n",
    "\n",
    "#output file paths\n",
    "test_outfile = '/Users/alliblk/Desktop/gitrepos/zika-usvi/data/glm/origin-destin-formatted-data/origin-destin-test-predictors.tsv'\n",
    "great_cirle_dists_outfile = '/Users/alliblk/Desktop/gitrepos/zika-usvi/data/glm/origin-destin-formatted-data/origin-destin-great-circle-dists.tsv'\n",
    "north_south_outfile = '/Users/alliblk/Desktop/gitrepos/zika-usvi/data/glm/origin-destin-formatted-data/origin-destin-north-south-indicator.tsv'\n"
   ]
  },
  {
   "cell_type": "code",
   "execution_count": 35,
   "metadata": {
    "collapsed": false
   },
   "outputs": [],
   "source": [
    "#do some country editing since mathematica gives us some countries that we aren't interested in.\n",
    "test_countries = ['united_states','mexico','canada'] #smaller set for testing scripts and such\n",
    "included_countries = [line.split('\\t')[0] for line in open(countries_file,'rU') if line.split('\\t')[0] != 'country']\n",
    "assert len(included_countries) == 45"
   ]
  },
  {
   "cell_type": "markdown",
   "metadata": {},
   "source": [
    "## Great Circle Distances predictor data\n",
    "\n",
    "The infile for calculating great circle distances between population-weighted centroids is a `tsv` file with the latitude and longitude for each country's population-weighted centroid. A population-weighted centroid represents a weighted average of the latitude and longitude of each city within the country, where the weight accorded to each city is the proportion of the country's population that lives in that city.\n",
    "\n",
    "The infile containing the weighted population centroids was generated in mathematica, see `weighted-centroids.nb` for the code.\n",
    "\n",
    "To generate the great circle distances predictor we will calculated the great circle distance between all pairs of countries' population-weighted centroid. All great circle distances are presented in kilometers (metric for the win)."
   ]
  },
  {
   "cell_type": "code",
   "execution_count": 39,
   "metadata": {
    "collapsed": false
   },
   "outputs": [],
   "source": [
    "#Make a dictionary from the weighted population centroid data where the key is the country and the value is a latitude-longitude tuple.\n",
    "\n",
    "weighted_pop_centroids = {}\n",
    "for line in open(wt_centroids_infile,'rU'):\n",
    "    if line.startswith('country'): #line is header\n",
    "        continue\n",
    "    else:\n",
    "        country = line.split('\\t')[0]\n",
    "        if country in included_countries:\n",
    "            latitude = float(line.split('\\t')[1])\n",
    "            longitude = float(line.split('\\t')[2])\n",
    "            weighted_pop_centroids[country] = (latitude,longitude)\n",
    "        else:\n",
    "            continue\n",
    "\n",
    "assert len(weighted_pop_centroids.keys()) == 45"
   ]
  },
  {
   "cell_type": "code",
   "execution_count": 40,
   "metadata": {
    "collapsed": false
   },
   "outputs": [],
   "source": [
    "# write actual full tsv file\n",
    "with open(great_cirle_dists_outfile,'w') as file:\n",
    "    file.write('{}\\t{}\\t{}\\n'.format('origin', 'destination', 'great_circle_dist_km'))\n",
    "    for origin in included_countries:\n",
    "        for destination in included_countries:\n",
    "            if origin == destination: #don't actually want to store the diagonal values of the matrix.\n",
    "                continue\n",
    "            else:\n",
    "                dist = great_circle(weighted_pop_centroids[origin],weighted_pop_centroids[destination]).kilometers\n",
    "                file.write('{}\\t{}\\t{}\\n'.format(origin, destination, dist))"
   ]
  },
  {
   "cell_type": "code",
   "execution_count": 41,
   "metadata": {
    "collapsed": true
   },
   "outputs": [],
   "source": [
    "#I'm also going to make a tiny 3 country version of the great circle distances for testing purposes:\n",
    "test_countries = ['canada', 'united_states', 'mexico']\n",
    "test_outfile = '/Users/alliblk/Desktop/gitrepos/zika-usvi/data/glm/origin-destin-formatted-data/origin-destination-TEST.tsv'\n",
    "with open(test_outfile,'w') as file:\n",
    "    file.write('{}\\t{}\\t{}\\n'.format('origin', 'destination', 'great_circle_dist_km'))\n",
    "    for origin in test_countries:\n",
    "        for destination in test_countries:\n",
    "            if origin == destination: #don't actually want to store the diagonal values of the matrix.\n",
    "                continue\n",
    "            else:\n",
    "                dist = great_circle(weighted_pop_centroids[origin],weighted_pop_centroids[destination]).kilometers\n",
    "                file.write('{}\\t{}\\t{}\\n'.format(origin, destination, dist))"
   ]
  },
  {
   "cell_type": "markdown",
   "metadata": {},
   "source": [
    "## North-South predictor data\n",
    "\n",
    "We are interested in determining whether Zika mirgration has occurred in a specific direction. For instance, has most transmission occurred in a northward or southward direction? Or has there been so much mixture that there is no particular trend?\n",
    "\n",
    "This predictor is a true pairwise matrix. The latitude and longitude for each country correspond to the weighted population centroids of that country. The cell value is given a `1` if the origin is north of the destination, and a `-1` if the origin is south of the destination.\n",
    "\n",
    "For example:\n",
    "\n",
    "origin          | destination       | value\n",
    "----------------|-------------------| ----\n",
    "united_states   |    mexico         |   1\n",
    "mexico          |    united_states  |   -1"
   ]
  },
  {
   "cell_type": "code",
   "execution_count": 42,
   "metadata": {
    "collapsed": false
   },
   "outputs": [],
   "source": [
    "with open(north_south_outfile,'w') as file:\n",
    "    file.write('{}\\t{}\\t{}\\n'.format('origin', 'destination', 'north_south_indicator'))\n",
    "    for origin in included_countries:\n",
    "        for destination in included_countries:\n",
    "            origin_lat = weighted_pop_centroids[origin][0]\n",
    "            destination_lat = weighted_pop_centroids[destination][0]\n",
    "            if origin == destination:\n",
    "                continue\n",
    "            else:\n",
    "                if origin_lat == destination_lat:\n",
    "                    value = 0\n",
    "                elif origin_lat > destination_lat: #origin is north of destination\n",
    "                    value = 1\n",
    "                elif origin_lat < destination_lat: #origin is south of destination\n",
    "                    value = -1\n",
    "                file.write('{}\\t{}\\t{}\\n'.format(origin, destination, value))"
   ]
  },
  {
   "cell_type": "markdown",
   "metadata": {},
   "source": [
    "## Passenger air traffic data\n",
    "\n",
    "Passenger air traffic between different countries in the Americas was made available to us by Kamran Kahn (Bluedot). The data are collected by the International Air Transport Association (IATA) and the counts comprise actual passenger ticket sales and include all flight connections. Thus these data are a reflection of the true origins and destinations of individual passengers.\n",
    "\n",
    "Because the raw data was supplied to us in an origin-destination format, the version of the data that has had the names standardized is already good to go. However for consistency's sake I'll write that file also to the directory that contains the `origin-destination` formatted tsv files."
   ]
  },
  {
   "cell_type": "code",
   "execution_count": 45,
   "metadata": {
    "collapsed": true
   },
   "outputs": [],
   "source": [
    "cp /Users/alliblk/Desktop/gitrepos/zika-usvi/data/glm/standardized-data/std-pax-volume.tsv /Users/alliblk/Desktop/gitrepos/zika-usvi/data/glm/origin-destin-formatted-data/origin-destin-pax-volume.tsv"
   ]
  }
 ],
 "metadata": {
  "kernelspec": {
   "display_name": "Python 2",
   "language": "python",
   "name": "python2"
  },
  "language_info": {
   "codemirror_mode": {
    "name": "ipython",
    "version": 2
   },
   "file_extension": ".py",
   "mimetype": "text/x-python",
   "name": "python",
   "nbconvert_exporter": "python",
   "pygments_lexer": "ipython2",
   "version": "2.7.10"
  }
 },
 "nbformat": 4,
 "nbformat_minor": 0
}

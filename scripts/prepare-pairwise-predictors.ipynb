{
 "cells": [
  {
   "cell_type": "code",
   "execution_count": 1,
   "metadata": {
    "collapsed": true
   },
   "outputs": [],
   "source": [
    "#import packages\n",
    "import re\n",
    "from geopy.distance import great_circle"
   ]
  },
  {
   "cell_type": "code",
   "execution_count": 2,
   "metadata": {
    "collapsed": true
   },
   "outputs": [],
   "source": [
    "#mathematica names are outputted in camelCase, translating to snake_case.\n",
    "def camelcase_to_snakecase(name):\n",
    "    s1 = re.sub('(.)([A-Z][a-z]+)', r'\\1_\\2', name)\n",
    "    return re.sub('([a-z0-9])([A-Z])', r'\\1_\\2', s1).lower()"
   ]
  },
  {
   "cell_type": "code",
   "execution_count": 7,
   "metadata": {
    "collapsed": true
   },
   "outputs": [],
   "source": [
    "#input file paths\n",
    "wt_centroids_infile = '/Users/alliblk/Desktop/gitrepos/zika-usvi/data/glm/raw-data/pop-weighted-centroids.tsv'\n",
    "pax_traffic_infile = '/Users/alliblk/Desktop/gitrepos/zika-usvi/data/glm/raw-data/Americas-to-Americas-2012-2016_KK_DB.xlsx'\n",
    "#output file paths\n",
    "test_outfile = '/Users/alliblk/Desktop/gitrepos/zika-usvi/data/glm/origin-destin-formatted-data/test-predictors.tsv'\n",
    "great_cirle_dists_outfile = '/Users/alliblk/Desktop/gitrepos/zika-usvi/data/glm/origin-destin-formatted-data/great-circle-dists.tsv'\n",
    "north_south_outfile = '/Users/alliblk/Desktop/gitrepos/zika-usvi/data/glm/origin-destin-formatted-data/north-south-indicator.tsv'\n"
   ]
  },
  {
   "cell_type": "code",
   "execution_count": 5,
   "metadata": {
    "collapsed": false
   },
   "outputs": [],
   "source": [
    "#read in latitudes and longitudes for each country as a dict\n",
    "#key is the country in snake_case, value is a tuple (latitude,longitude)\n",
    "\n",
    "weighted_pop_centroids = {}\n",
    "for line in open(wt_centroids_infile,'rU'):\n",
    "    place = camelcase_to_snakecase(line.split('\\t')[0])\n",
    "    latitude = float(line.split('\\t')[1])\n",
    "    longitude = float(line.split('\\t')[2])\n",
    "    weighted_pop_centroids[place] = (latitude,longitude)"
   ]
  },
  {
   "cell_type": "code",
   "execution_count": 6,
   "metadata": {
    "collapsed": false
   },
   "outputs": [],
   "source": [
    "#do some country editing since mathematica gives us some countries that we aren't interested in.\n",
    "test_countries = ['united_states','mexico','canada'] #smaller set for testing scripts and such\n",
    "excluded_countries = ['falkland_islands','montserrat', 'greenland', 'saint_pierre_miquelon']\n",
    "included_countries = [key for key in weighted_pop_centroids.keys() if key not in excluded_countries]"
   ]
  },
  {
   "cell_type": "markdown",
   "metadata": {},
   "source": [
    "## Great Circle Distances predictor data\n",
    "\n",
    "This predictor is a true pairwise matrix, where the latitude and longitude for each country represents a weighted average of the latitude and longitude of each city within the country. The weight accorded to each city is the proportion of the country's population that lives in that city.\n",
    "\n",
    "The infile containing the weighted population centroids was generated in mathematica, see `weighted-centroids.nb` for the code.\n",
    "\n",
    "Predictors are written to file as a long edge tsv, with both the origin and the destination specified. For example:\n",
    "\n",
    "origin | destination | value\n",
    "--------|-----------| ----\n",
    "united_states   |    mexico      |   XXX\n",
    "mexico    |    united_states      |   ZZZ\n",
    "\n",
    "All great circle distances are presented in kilometers (metric for the win)."
   ]
  },
  {
   "cell_type": "code",
   "execution_count": 11,
   "metadata": {
    "collapsed": false
   },
   "outputs": [],
   "source": [
    "# write test tsv file\n",
    "with open(test_outfile,'w') as file:\n",
    "    file.write('{}\\t{}\\t{}\\n'.format('origin', 'destination', 'great_circle_dist_km'))\n",
    "    for origin in test_countries:\n",
    "        for destination in test_countries:\n",
    "            if origin == destination: #don't actually want to store the diagonal values of the matrix.\n",
    "                continue\n",
    "            else:\n",
    "                dist = great_circle(weighted_pop_centroids[origin],weighted_pop_centroids[destination]).kilometers\n",
    "                file.write('{}\\t{}\\t{}\\n'.format(origin, destination, dist))\n",
    "\n",
    "# write actual full tsv file\n",
    "with open(great_cirle_dists_outfile,'w') as file:\n",
    "    file.write('{}\\t{}\\t{}\\n'.format('origin', 'destination', 'great_circle_dist_km'))\n",
    "    for origin in included_countries:\n",
    "        for destination in included_countries:\n",
    "            if origin == destination: #don't actually want to store the diagonal values of the matrix.\n",
    "                continue\n",
    "            else:\n",
    "                dist = great_circle(weighted_pop_centroids[origin],weighted_pop_centroids[destination]).kilometers\n",
    "                file.write('{}\\t{}\\t{}\\n'.format(origin, destination, dist))"
   ]
  },
  {
   "cell_type": "markdown",
   "metadata": {},
   "source": [
    "## North-South predictor data\n",
    "\n",
    "We are interested in determining whether Zika mirgration has occurred in a specific direction. For instance, has most transmission occurred in a northward or southward direction? Or has there been so much mixture that there is no particular trend?\n",
    "\n",
    "This predictor is a true pairwise matrix. The latitude and longitude for each country correspond to the weighted population centroids of that country. The cell value is given a `1` if the origin is north of the destination, and a `-1` if the origin is south of the destination.\n",
    "\n",
    "For example\n",
    "\n",
    "origin | destination | value\n",
    "--------|-----------| ----\n",
    "united_states   |    mexico      |   1\n",
    "mexico    |    united_states      |   -1"
   ]
  },
  {
   "cell_type": "code",
   "execution_count": 13,
   "metadata": {
    "collapsed": false
   },
   "outputs": [],
   "source": [
    "with open(north_south_outfile,'w') as file:\n",
    "    file.write('{}\\t{}\\t{}\\n'.format('origin', 'destination', 'north_south_indicator'))\n",
    "    for origin in included_countries:\n",
    "        for destination in included_countries:\n",
    "            origin_lat = weighted_pop_centroids[origin][0]\n",
    "            destination_lat = weighted_pop_centroids[destination][0]\n",
    "            if origin == destination:\n",
    "                continue\n",
    "            else:\n",
    "                if origin_lat == destination_lat:\n",
    "                    value = 0\n",
    "                elif origin_lat > destination_lat: #origin is north of destination\n",
    "                    value = 1\n",
    "                elif origin_lat < destination_lat: #origin is south of destination\n",
    "                    value = -1\n",
    "                file.write('{}\\t{}\\t{}\\n'.format(origin, destination, value))"
   ]
  }
 ],
 "metadata": {
  "kernelspec": {
   "display_name": "Python 2",
   "language": "python",
   "name": "python2"
  },
  "language_info": {
   "codemirror_mode": {
    "name": "ipython",
    "version": 2
   },
   "file_extension": ".py",
   "mimetype": "text/x-python",
   "name": "python",
   "nbconvert_exporter": "python",
   "pygments_lexer": "ipython2",
   "version": "2.7.10"
  }
 },
 "nbformat": 4,
 "nbformat_minor": 0
}

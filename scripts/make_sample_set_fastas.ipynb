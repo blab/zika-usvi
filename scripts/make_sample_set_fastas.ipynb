{
 "cells": [
  {
   "cell_type": "code",
   "execution_count": 10,
   "metadata": {
    "collapsed": true
   },
   "outputs": [],
   "source": [
    "fauna_file = \"/Users/alliblk/Desktop/gitrepos/fauna/data/zika.fasta\"\n",
    "usvi_file = \"/Users/alliblk/Desktop/gitrepos/zika-usvi/data/fastas/usvi-31-rough-aligned-linsi.fasta\"\n",
    "americas_file = '/Users/alliblk/Desktop/gitrepos/zika-usvi/data/fastas/american-zika.fasta'\n",
    "americas_frenchpol_file = '/Users/alliblk/Desktop/gitrepos/zika-usvi/data/fastas/american-frenchPolyn-zika.fasta'\n",
    "usvi_primary_clade_file = '/Users/alliblk/Desktop/gitrepos/zika-usvi/data/fastas/usvi-primary-clade.fasta'\n",
    "\n",
    "regions_to_exclude1 = ['southeast_asia', 'oceania', 'japan_korea', 'china','europe'] #french polynesia out\n",
    "regions_to_exclude2 = ['southeast_asia', 'japan_korea', 'china','europe'] #french polynesia in\n",
    "\n",
    "usvi_primary_clade = ['USVI/38/2016', 'USVI/13/2016','USVI/3/2016','USVI/5/2016', 'USVI/43/2016',\n",
    "                     'USVI/34/2016','USVI/6/2016','USVI/21/2016','USVI/27/2016','USVI/25/2016','USVI/35/2016',\n",
    "                     'USVI/1/2016','USVI/2/2016','USVI/37/2016', 'USVI/12/2016','USVI/30/2016', 'USVI/32/2016',\n",
    "                     'USVI/39/2016','USVI/23/2016']"
   ]
  },
  {
   "cell_type": "code",
   "execution_count": 6,
   "metadata": {
    "collapsed": true
   },
   "outputs": [],
   "source": [
    "from Bio import SeqIO"
   ]
  },
  {
   "cell_type": "code",
   "execution_count": 20,
   "metadata": {
    "collapsed": false
   },
   "outputs": [
    {
     "name": "stdout",
     "output_type": "stream",
     "text": [
      "325\n"
     ]
    }
   ],
   "source": [
    "fauna_sequences = SeqIO.parse(open(fauna_file),'fasta')\n",
    "american_seq_dict = {fasta.id:fasta.seq for fasta in fauna_sequences if fasta.id.split('|')[4] not in regions_to_exclude1}\n",
    "print len(american_seq_dict)"
   ]
  },
  {
   "cell_type": "code",
   "execution_count": 21,
   "metadata": {
    "collapsed": false
   },
   "outputs": [
    {
     "name": "stdout",
     "output_type": "stream",
     "text": [
      "351\n"
     ]
    }
   ],
   "source": [
    "fauna_sequences = SeqIO.parse(open(fauna_file),'fasta')\n",
    "american_fp_seq_dict = {fasta.id:fasta.seq for fasta in fauna_sequences if fasta.id.split('|')[4] not in regions_to_exclude2}\n",
    "print len(american_fp_seq_dict)"
   ]
  },
  {
   "cell_type": "code",
   "execution_count": 19,
   "metadata": {
    "collapsed": false
   },
   "outputs": [
    {
     "name": "stdout",
     "output_type": "stream",
     "text": [
      "18\n"
     ]
    }
   ],
   "source": [
    "usvi_sequences = SeqIO.parse(open(usvi_file),'fasta')\n",
    "usvi_primary_dict = {fasta.id:fasta.seq for fasta in usvi_sequences if fasta.id.split('|')[0] in usvi_primary_clade}\n",
    "print len(usvi_primary_dict)"
   ]
  },
  {
   "cell_type": "code",
   "execution_count": 17,
   "metadata": {
    "collapsed": false
   },
   "outputs": [
    {
     "name": "stdout",
     "output_type": "stream",
     "text": [
      "0\n",
      "351\n"
     ]
    }
   ],
   "source": [
    "print len(american_seq_dict)\n",
    "print len(american_fp_seq_dict)"
   ]
  },
  {
   "cell_type": "code",
   "execution_count": 22,
   "metadata": {
    "collapsed": false
   },
   "outputs": [],
   "source": [
    "with open(americas_file,'w') as out_file:\n",
    "    for key in american_seq_dict.keys():\n",
    "        out_file.write(str('>' + key + '\\n' + american_seq_dict[key] + '\\n'))\n",
    "\n",
    "with open(americas_frenchpol_file,'w') as out_file:\n",
    "    for key in american_fp_seq_dict.keys():\n",
    "        out_file.write(str('>' + key + '\\n' + american_fp_seq_dict[key] + '\\n'))\n",
    "\n",
    "with open(usvi_primary_clade_file,'w') as out_file:\n",
    "    for key in usvi_primary_dict.keys():\n",
    "        out_file.write(str('>' + key + '\\n' + usvi_primary_dict[key] + '\\n'))"
   ]
  }
 ],
 "metadata": {
  "kernelspec": {
   "display_name": "Python 2",
   "language": "python",
   "name": "python2"
  },
  "language_info": {
   "codemirror_mode": {
    "name": "ipython",
    "version": 2
   },
   "file_extension": ".py",
   "mimetype": "text/x-python",
   "name": "python",
   "nbconvert_exporter": "python",
   "pygments_lexer": "ipython2",
   "version": "2.7.10"
  }
 },
 "nbformat": 4,
 "nbformat_minor": 0
}

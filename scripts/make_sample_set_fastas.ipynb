{
 "cells": [
  {
   "cell_type": "code",
   "execution_count": 71,
   "metadata": {
    "collapsed": true
   },
   "outputs": [],
   "source": [
    "fauna_file = \"/Users/alliblk/Desktop/gitrepos/fauna/data/zika.fasta\"\n",
    "usvi_file = \"/Users/alliblk/Desktop/gitrepos/zika-usvi/data/fastas/usvi-31-genomes-rough.fasta\"\n",
    "americas_file = '/Users/alliblk/Desktop/gitrepos/zika-usvi/data/fastas/american-zika.fasta'\n",
    "usvi_primary_clade_file = '/Users/alliblk/Desktop/gitrepos/zika-usvi/data/fastas/usvi-primary-clade.fasta'\n",
    "\n",
    "regions_to_exclude = ['southeast_asia', 'oceania', 'japan_korea', 'china','europe']\n",
    "usvi_primary_clade = ['USVI/38/2016', 'USVI/13/2016','USVI/3/2016','USVI/5/2016', 'USVI/43/2016',\n",
    "                     'USVI/34/2016','USVI/6/2016','USVI/21/2016','USVI/27/2016','USVI/25/2016','USVI/35/2016',\n",
    "                     'USVI/1/2016','USVI/2/2016','USVI/37/2016', 'USVI/12/2016','USVI/30/2016', 'USVI/32/2016',\n",
    "                     'USVI/39/2016','USVI/23/2016']"
   ]
  },
  {
   "cell_type": "code",
   "execution_count": 1,
   "metadata": {
    "collapsed": true
   },
   "outputs": [],
   "source": [
    "from Bio import SeqIO"
   ]
  },
  {
   "cell_type": "code",
   "execution_count": 67,
   "metadata": {
    "collapsed": false
   },
   "outputs": [],
   "source": [
    "fauna_sequences = SeqIO.parse(open(fauna_file),'fasta')\n",
    "usvi_sequences = SeqIO.parse(open(usvi_file),'fasta')\n",
    "\n",
    "american_seq_dict = {fasta.id:fasta.seq for fasta in fauna_sequences if fasta.id.split('|')[4] not in regions_to_exclude}\n",
    "usvi_primary_dict = {fasta.id:fasta.seq for fasta in usvi_sequences if fasta.id.split('|')[0] in usvi_primary_clade}"
   ]
  },
  {
   "cell_type": "code",
   "execution_count": 72,
   "metadata": {
    "collapsed": false
   },
   "outputs": [],
   "source": [
    "with open(americas_file,'w') as out_file:\n",
    "    for key in american_seq_dict.keys():\n",
    "        out_file.write(str('>' + key + '\\n' + american_seq_dict[key] + '\\n'))\n",
    "\n",
    "with open(usvi_primary_clade_file,'w') as out_file:\n",
    "    for key in usvi_primary_dict.keys():\n",
    "        out_file.write(str('>' + key + '\\n' + usvi_primary_dict[key] + '\\n'))"
   ]
  }
 ],
 "metadata": {
  "kernelspec": {
   "display_name": "Python 2",
   "language": "python",
   "name": "python2"
  },
  "language_info": {
   "codemirror_mode": {
    "name": "ipython",
    "version": 2
   },
   "file_extension": ".py",
   "mimetype": "text/x-python",
   "name": "python",
   "nbconvert_exporter": "python",
   "pygments_lexer": "ipython2",
   "version": "2.7.10"
  }
 },
 "nbformat": 4,
 "nbformat_minor": 0
}

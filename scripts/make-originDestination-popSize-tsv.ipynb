{
 "cells": [
  {
   "cell_type": "code",
   "execution_count": null,
   "metadata": {
    "collapsed": true
   },
   "outputs": [],
   "source": [
    "#Import libraries"
   ]
  },
  {
   "cell_type": "code",
   "execution_count": 3,
   "metadata": {
    "collapsed": true
   },
   "outputs": [],
   "source": [
    "pop_size_file = '/Users/alliblk/Desktop/gitrepos/zika-usvi/data/predictors/population-sizes-45.tsv'\n",
    "origin_size_outfile = '/Users/alliblk/Desktop/gitrepos/zika-usvi/data/predictors/predictor-tsv/origin-popsize.tsv'\n",
    "destin_size_outfile = '/Users/alliblk/Desktop/gitrepos/zika-usvi/data/predictors/predictor-tsv/destination-popsize.tsv'"
   ]
  },
  {
   "cell_type": "code",
   "execution_count": 12,
   "metadata": {
    "collapsed": false
   },
   "outputs": [
    {
     "name": "stdout",
     "output_type": "stream",
     "text": [
      "<type 'float'>\n"
     ]
    }
   ],
   "source": [
    "\n",
    "with open(pop_size_file,'rU') as file:\n",
    "    pop_size_dict = {line.split('\\t')[0]:float(line.strip().split('\\t')[1]) for line in file}"
   ]
  },
  {
   "cell_type": "code",
   "execution_count": 8,
   "metadata": {
    "collapsed": false
   },
   "outputs": [],
   "source": [
    "#make origin-destination style tsv for pop size at origin predictor\n",
    "\n",
    "with open(origin_size_outfile,'w') as file:\n",
    "    file.write('{}\\t{}\\t{}\\n'.format('origin', 'destination', 'origin_pop_size'))\n",
    "    for origin in pop_size_dict.keys():\n",
    "        for destination in pop_size_dict.keys():\n",
    "            if origin != destination:\n",
    "                file.write('{}\\t{}\\t{}\\n'.format(origin, destination, pop_size_dict[origin]))\n",
    "            else:\n",
    "                continue"
   ]
  },
  {
   "cell_type": "code",
   "execution_count": 9,
   "metadata": {
    "collapsed": true
   },
   "outputs": [],
   "source": [
    "#make origin-destination style tsv for pop size at destination predictor\n",
    "\n",
    "with open(destin_size_outfile,'w') as file:\n",
    "    file.write('{}\\t{}\\t{}\\n'.format('origin', 'destination', 'destination_pop_size'))\n",
    "    for origin in pop_size_dict.keys():\n",
    "        for destination in pop_size_dict.keys():\n",
    "            if origin != destination:\n",
    "                file.write('{}\\t{}\\t{}\\n'.format(origin, destination, pop_size_dict[destination]))\n",
    "            else:\n",
    "                continue"
   ]
  }
 ],
 "metadata": {
  "kernelspec": {
   "display_name": "Python 2",
   "language": "python",
   "name": "python2"
  },
  "language_info": {
   "codemirror_mode": {
    "name": "ipython",
    "version": 2
   },
   "file_extension": ".py",
   "mimetype": "text/x-python",
   "name": "python",
   "nbconvert_exporter": "python",
   "pygments_lexer": "ipython2",
   "version": "2.7.10"
  }
 },
 "nbformat": 4,
 "nbformat_minor": 0
}

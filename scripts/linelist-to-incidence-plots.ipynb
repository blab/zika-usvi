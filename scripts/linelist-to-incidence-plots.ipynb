{
 "cells": [
  {
   "cell_type": "code",
   "execution_count": 1,
   "metadata": {},
   "outputs": [],
   "source": [
    "#normal plotting and data wrangling packages\n",
    "import pandas as pd\n",
    "import matplotlib as mpl\n",
    "import matplotlib.pyplot as plt\n",
    "%matplotlib inline\n",
    "import numpy as np\n",
    "from matplotlib import gridspec\n",
    "\n",
    "#packages for handling dates and date conversions\n",
    "import datetime as dt\n",
    "from matplotlib.dates import DateFormatter, DayLocator, YearLocator\n"
   ]
  },
  {
   "cell_type": "code",
   "execution_count": 2,
   "metadata": {},
   "outputs": [],
   "source": [
    "# Going to put all of the above processes into a function \n",
    "# since I need to do this again for each of the three islands on their own.\n",
    "# I'd like to keep the date range the same for all islands (even though they each had different durations of transmission)\n",
    "# and so I'm specifing the date range as an argument in the function.\n",
    "\n",
    "def linelist_to_epicurve(linelist, date_column_name, indexing_linelist, frequency):\n",
    "    \"\"\" This function takes in the following arguments:\n",
    "    linelist: this is a pandas dataframe\n",
    "    date_column_name: A string that specifies the df column name that has the dates you want to use\n",
    "    indexing_linelist: The linelist that has the entire date range you care about. This ensures that you get \n",
    "    equal length dataframes between for example, a country-level line list with individual county level linelists as well.\n",
    "    frequency: either \"d\" for daily, or \"w\" for incident cases grouped into weeks. Note these ARE NOT epi weeks, but rather weeks\n",
    "    as defined by the start day of your line list.\n",
    "    \"\"\"\n",
    "    day_index = pd.date_range(indexing_linelist[date_column_name].min(), indexing_linelist[date_column_name].max(), freq=\"d\")#get index object for every day between first and last cases in linelist\n",
    "    case_counts_per_day = pd.DataFrame(linelist[date_column_name].value_counts().sort_index()) #get total case counts for each day that has one or more reported cases\n",
    "    empty_curve = case_counts_per_day.reindex(day_index).fillna(0)#make a epi curve based off of the index object. Have a column for every day in the range, set cases at 0.\n",
    "    epi_curve = empty_curve.add(case_counts_per_day).fillna(0) #then add the actual case counts to that df. If a day didn't have any cases, then the 0 from the previous df remains unchanged.\n",
    "\n",
    "    if frequency == \"w\":\n",
    "        epi_curve = epi_curve.resample('W', closed=\"right\").sum()\n",
    "        \n",
    "    epi_curve = epi_curve.rename(columns={date_column_name: \"caseCount\"})\n",
    "    \n",
    "    return epi_curve\n",
    "\n",
    "\n",
    "def timestampToDecimalDate(sampling_date):\n",
    "    \"\"\" This function takes in a Datetime Timestamp object and retuns the decimal date format of the date.\n",
    "        Note that the decimal date will count all time UP TO the specified calendar date. For example, if my date is Jan 3,\n",
    "        then the decimal fraction will represent two days worth of seconds (all the seconds of Jan 1 and Jan 2).\n",
    "        \n",
    "        Also note that this function requires the timestamp to be in Datetime format, which is DIFFERENT than pandas'\n",
    "        timestamp format. Therefore, if dates are coming from a pandas df, you'll likely need to convert them with x.to_pydatetime()\n",
    "        before you can pass them to thus function.\"\"\"\n",
    "    \n",
    "    year =  sampling_date.year\n",
    "    beginning_of_year = dt.datetime(year,1,1) #year, month, day, so year 1,1 == beginning of year\n",
    "    end_of_year = dt.datetime(year+1,1,1) #next year 1,1 is a full year away from beginning of sampling year\n",
    "    #return fraction of the full year (in seconds) that occurs between jan 1st and your sampling date\n",
    "    return year + ((sampling_date - beginning_of_year).total_seconds() / ((end_of_year - beginning_of_year).total_seconds()))\n"
   ]
  },
  {
   "cell_type": "markdown",
   "metadata": {},
   "source": [
    "# First thing: convert the epi line list into incidence (counts of cases either per day or per week).\n",
    "\n",
    "Basically the initial starting point is tabular data where each row is an individual, and there's info like sample \n",
    "collection date, symptoms, whether the sample was positive or not etc. What I'm doing here is taking that linelist for\n",
    "the cases and counting up the total number of cases reported during a certain time period (either on a single day or over a week). This is the basis for generating epi curves. Later on, I'll export that data so it's around for use outside this notebook, and I'll also plot information."
   ]
  },
  {
   "cell_type": "code",
   "execution_count": 3,
   "metadata": {},
   "outputs": [
    {
     "name": "stdout",
     "output_type": "stream",
     "text": [
      "There are 507 days between the first case and last case in our dataset.\n",
      "The first case was recorded on 2016-01-03 00:00:00.\n",
      "The last case was recorded on 2017-05-23 00:00:00.\n"
     ]
    }
   ],
   "source": [
    "#let's just get a sense of what the overall duration of the outbreak is.\n",
    "combined_islands_linelist = pd.read_csv(\"../data/epi-data/epi-surveillance-data-cases-only-abridged.csv\")\n",
    "day_index = pd.date_range(combined_islands_linelist[\"SymptomOnsetDate\"].min(), combined_islands_linelist[\"SymptomOnsetDate\"].max(), freq='d')\n",
    "print((\"There are {} days between the first case and last case in our dataset.\").format(len(day_index)))\n",
    "print((\"The first case was recorded on {}.\").format(min(day_index)))\n",
    "print((\"The last case was recorded on {}.\").format(max(day_index)))"
   ]
  },
  {
   "cell_type": "code",
   "execution_count": 4,
   "metadata": {},
   "outputs": [],
   "source": [
    "saint_croix_linelist = pd.read_csv(\"../data/epi-data/saint-croix-cases-linelist.csv\")\n",
    "saint_thomas_linelist = pd.read_csv(\"../data/epi-data/saint-thomas-cases-linelist.csv\")\n",
    "saint_john_linelist = pd.read_csv(\"../data/epi-data/saint-john-cases-linelist.csv\")\n",
    "\n",
    "#daily epi curves (could use weekly if I wanted by specifying freq=\"w\")\n",
    "daily_combined_islands_epicurve = linelist_to_epicurve(combined_islands_linelist, \"SymptomOnsetDate\", combined_islands_linelist, \"d\")\n",
    "daily_saint_croix_epicurve = linelist_to_epicurve(saint_croix_linelist, \"SymptomOnsetDate\", combined_islands_linelist, \"d\")\n",
    "daily_saint_thomas_epicurve = linelist_to_epicurve(saint_thomas_linelist, \"SymptomOnsetDate\",  combined_islands_linelist,\"d\")\n",
    "daily_saint_john_epicurve = linelist_to_epicurve(saint_john_linelist, \"SymptomOnsetDate\",  combined_islands_linelist,\"d\")"
   ]
  },
  {
   "cell_type": "code",
   "execution_count": 5,
   "metadata": {},
   "outputs": [],
   "source": [
    "#export the incidence data to CSV in case I want to import into a different notebook later.\n",
    "daily_combined_islands_epicurve.to_csv(\"../data/epi-data/daily_incidence_all_islands.csv\", index_label=\"date\")\n",
    "daily_saint_croix_epicurve.to_csv(\"../data/epi-data/daily-incidence-saint-croix.csv\", index_label = \"date\")\n",
    "daily_saint_thomas_epicurve.to_csv(\"../data/epi-data/daily-incidence-saint-thomas.csv\", index_label = \"date\")\n",
    "daily_saint_john_epicurve.to_csv(\"../data/epi-data/daily_incidence_saint_john.csv\", index_label = \"date\")"
   ]
  },
  {
   "cell_type": "code",
   "execution_count": 6,
   "metadata": {},
   "outputs": [],
   "source": [
    "#for zika most epi curves were reported as cases per week, so I'm going to do that for my epi curves here as well.\n",
    "weekly_saint_croix_epicurve = linelist_to_epicurve(saint_croix_linelist, \"SymptomOnsetDate\", combined_islands_linelist, \"w\")\n",
    "weekly_saint_thomas_epicurve = linelist_to_epicurve(saint_thomas_linelist, \"SymptomOnsetDate\", combined_islands_linelist,\"w\")\n",
    "weekly_saint_john_epicurve = linelist_to_epicurve(saint_john_linelist, \"SymptomOnsetDate\",  combined_islands_linelist,\"w\")"
   ]
  },
  {
   "cell_type": "markdown",
   "metadata": {},
   "source": [
    "# Second thing: Plots\n",
    "\n",
    "A common plot that I like to do is to show the epi curves alongside information on when sequenced genomes were sampled. This allows people to see roughly what sampling coverage is like over the duration of the epidemic (and periods of peak incidence etc). So here I'm plotting my weekly incidence data that I wrangled above, and I'm also parsing my USVI sequences that are in fasta format to extract the island and the date of sampling."
   ]
  },
  {
   "cell_type": "code",
   "execution_count": 7,
   "metadata": {},
   "outputs": [],
   "source": [
    "#With the incidence data I also want to be plot the genome sampling times. So need to parse that in from the fasta file\n",
    "sampling_dates_by_island = []\n",
    "                            \n",
    "usvi_sequences = \"../data/finalized-usvi-seqs-for-use-in-analyses.fasta\"\n",
    "with open(usvi_sequences, \"r\") as file:\n",
    "    for line in file:\n",
    "        if line.startswith(\">\"):\n",
    "            island = line.split(\"|\")[4]\n",
    "            date = pd.Timestamp(line.split(\"|\")[2])# I want pandas timestamps here because that's the incidence data format.\n",
    "            sampling_dates_by_island.append([date,island])"
   ]
  },
  {
   "cell_type": "code",
   "execution_count": 27,
   "metadata": {},
   "outputs": [
    {
     "data": {
      "image/png": "[encoded data removed]",
      "text/plain": [
       "<Figure size 1080x720 with 2 Axes>"
      ]
     },
     "metadata": {},
     "output_type": "display_data"
    }
   ],
   "source": [
    "#set up the multiple plotting windows, 2 rows, one column, the the epi curve panel should be larger.\n",
    "gs = gridspec.GridSpec(2, 1, height_ratios=[1, 4], wspace=0, hspace=0.1)\n",
    "fig = plt.figure(figsize=(15,10), facecolor=\"white\")\n",
    "ax1 = fig.add_subplot(gs[0])\n",
    "ax2 = fig.add_subplot(gs[1])\n",
    "\n",
    "# specific island-specific colors\n",
    "usvi_island_colors = {'saint_john': '#669999', 'saint_thomas': '#8876a8' ,'saint_croix': '#ffa500'}\n",
    "\n",
    "# ensure that both panels have matching x-axes.\n",
    "ax1.set_xlim((16774.15, 17342.85))\n",
    "ax2.set_xlim((16774.15, 17342.85))\n",
    "\n",
    "# Genomic sampling panel on top\n",
    "ax1.set_ylim((0.5,2.5))\n",
    "island_y_value = {\"saint_croix\": 1, \"saint_thomas\":1.5, \"saint_john\":2}\n",
    "for entry in sampling_dates_by_island:\n",
    "    ax1.plot(entry[0], island_y_value[entry[1]], 'o', alpha=0.6, markeredgecolor = \"black\", markersize=10, color=usvi_island_colors[entry[1]])\n",
    "\n",
    "\n",
    "ax1.spines['top'].set_visible(False)\n",
    "ax1.spines['left'].set_visible(False)\n",
    "ax1.spines['right'].set_visible(False)\n",
    "ax1.spines['bottom'].set_visible(False)\n",
    "ax1.xaxis.set_visible(False)\n",
    "ax1.set_yticks([])\n",
    "ax1.set_ylabel(\"Genomic sampling\", size=16, rotation=0, verticalalignment=\"center\")\n",
    "\n",
    "# Epi curve on the bottom\n",
    "dates = [x for x in weekly_saint_croix_epicurve.index]\n",
    "#y values\n",
    "stx_y_values = [y for y in weekly_saint_croix_epicurve[\"caseCount\"]]\n",
    "stt_y_values = [y for y in weekly_saint_thomas_epicurve[\"caseCount\"]]\n",
    "stj_y_values = [y for y in weekly_saint_john_epicurve[\"caseCount\"]]\n",
    "\n",
    "#plotting\n",
    "ax2.bar(dates, stt_y_values, width=6,  alpha = 0.8, color = usvi_island_colors[\"saint_thomas\"])\n",
    "ax2.bar(dates, stx_y_values, width = 6, alpha = 0.9, color = usvi_island_colors[\"saint_croix\"])\n",
    "ax2.bar(dates, stj_y_values,  width = 6, alpha = 0.9, color = usvi_island_colors[\"saint_john\"])\n",
    "\n",
    "#remove annoying extraneous lines\n",
    "ax2.spines['top'].set_visible(False)\n",
    "ax2.spines['left'].set_visible(True)\n",
    "ax2.spines['right'].set_visible(False)\n",
    "\n",
    "#axis labeling and formatting\n",
    "ax2.set_ylabel('Weekly incidence\\n',size=16)\n",
    "ax2.xaxis_date()\n",
    "ax2.xaxis.set_major_formatter(DateFormatter(\"%b-%Y\"))\n",
    "\n",
    "plt.savefig(\"../figures/figure1.png\", dpi=400)\n",
    "    "
   ]
  }
 ],
 "metadata": {
  "kernelspec": {
   "display_name": "Python 3",
   "language": "python",
   "name": "python3"
  },
  "language_info": {
   "codemirror_mode": {
    "name": "ipython",
    "version": 3
   },
   "file_extension": ".py",
   "mimetype": "text/x-python",
   "name": "python",
   "nbconvert_exporter": "python",
   "pygments_lexer": "ipython3",
   "version": "3.6.12"
  }
 },
 "nbformat": 4,
 "nbformat_minor": 1
}

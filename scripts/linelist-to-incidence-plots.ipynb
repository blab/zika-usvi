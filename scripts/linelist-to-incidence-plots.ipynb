{
 "cells": [
  {
   "cell_type": "code",
   "execution_count": 219,
   "metadata": {},
   "outputs": [
    {
     "name": "stderr",
     "output_type": "stream",
     "text": [
      "/usr/local/lib/python3.6/site-packages/matplotlib/font_manager.py:1331: UserWarning: findfont: Font family ['Helvetica'] not found. Falling back to DejaVu Sans\n",
      "  (prop.get_family(), self.defaultFamily[fontext]))\n"
     ]
    },
    {
     "data": {
      "text/plain": [
       "'/usr/local/lib/python3.6/site-packages/matplotlib/mpl-data/fonts/ttf/DejaVuSans.ttf'"
      ]
     },
     "execution_count": 219,
     "metadata": {},
     "output_type": "execute_result"
    }
   ],
   "source": [
    "import pandas as pd\n",
    "import matplotlib as mpl\n",
    "import matplotlib.pyplot as plt\n",
    "%matplotlib inline\n",
    "from matplotlib import font_manager as fm\n",
    "import datetime as dt\n",
    "from matplotlib.dates import DateFormatter, DayLocator, YearLocator\n",
    "\n",
    "fm.findfont('Helvetica')"
   ]
  },
  {
   "cell_type": "code",
   "execution_count": 165,
   "metadata": {},
   "outputs": [],
   "source": [
    "# Going to put all of the above processes into a function \n",
    "# since I need to do this again for each of the three islands on their own.\n",
    "# I'd like to keep the date range the same for all islands (even though they each had different durations of transmission)\n",
    "# and so I'm specifing the date range as an argument in the function.\n",
    "\n",
    "def linelist_to_epicurve(linelist, date_column_name, indexing_linelist, frequency):\n",
    "    \"\"\" This function takes in the following arguments:\n",
    "    linelist: this is a pandas dataframe\n",
    "    date_column_name: A string that specifies the df column name that has the dates you want to use\n",
    "    indexing_linelist: The linelist that has the entire date range you care about. This ensures that you get \n",
    "    equal length dataframes between for example, a country-level line list with individual county level linelists as well.\n",
    "    frequency: either \"d\" for daily, or \"w\" for incident cases grouped into weeks. Note these ARE NOT epi weeks, but rather weeks\n",
    "    as defined by the start day of your line list.\n",
    "    \"\"\"\n",
    "    day_index = pd.date_range(indexing_linelist[date_column_name].min(), indexing_linelist[date_column_name].max(), freq=\"d\")#get index object for every day between first and last cases in linelist\n",
    "    case_counts_per_day = pd.DataFrame(linelist[date_column_name].value_counts().sort_index()) #get total case counts for each day that has one or more reported cases\n",
    "    empty_curve = case_counts_per_day.reindex(day_index).fillna(0)#make a epi curve based off of the index object. Have a column for every day in the range, set cases at 0.\n",
    "    epi_curve = empty_curve.add(case_counts_per_day).fillna(0) #then add the actual case counts to that df. If a day didn't have any cases, then the 0 from the previous df remains unchanged.\n",
    "\n",
    "    if frequency == \"w\":\n",
    "        epi_curve = epi_curve.resample('W', closed=\"right\").sum()\n",
    "        \n",
    "    epi_curve = epi_curve.rename(columns={date_column_name: \"caseCount\"})\n",
    "    \n",
    "    return epi_curve\n",
    "\n",
    "\n",
    "def timestampToDecimalDate(sampling_date):\n",
    "    \"\"\" This function takes in a Datetime Timestamp object and retuns the decimal date format of the date.\n",
    "        Note that the decimal date will count all time UP TO the specified calendar date. For example, if my date is Jan 3,\n",
    "        then the decimal fraction will represent two days worth of seconds (all the seconds of Jan 1 and Jan 2).\n",
    "        \n",
    "        Also note that this function requires the timestamp to be in Datetime format, which is DIFFERENT than pandas'\n",
    "        timestamp format. Therefore, if dates are coming from a pandas df, you'll likely need to convert them with x.to_pydatetime()\n",
    "        before you can pass them to thus function.\"\"\"\n",
    "    \n",
    "    year =  sampling_date.year\n",
    "    beginning_of_year = dt.datetime(year,1,1) #year, month, day, so year 1,1 == beginning of year\n",
    "    end_of_year = dt.datetime(year+1,1,1) #next year 1,1 is a full year away from beginning of sampling year\n",
    "    #return fraction of the full year (in seconds) that occurs between jan 1st and your sampling date\n",
    "    return year + ((sampling_date - beginning_of_year).total_seconds() / ((end_of_year - beginning_of_year).total_seconds()))\n"
   ]
  },
  {
   "cell_type": "code",
   "execution_count": 23,
   "metadata": {},
   "outputs": [
    {
     "name": "stdout",
     "output_type": "stream",
     "text": [
      "There are 507 days between the first case and last case in our dataset.\n",
      "The first case was recorded on 2016-01-03 00:00:00.\n",
      "The last case was recorded on 2017-05-23 00:00:00.\n"
     ]
    }
   ],
   "source": [
    "#let's just get a sense of what the overall duration of the outbreak is.\n",
    "combined_islands_linelist = pd.read_csv(\"../data/epi-data/epi-surveillance-data-cases-only-abridged.csv\")\n",
    "day_index = pd.date_range(combined_islands_linelist[\"SymptomOnsetDate\"].min(), combined_islands_linelist[\"SymptomOnsetDate\"].max(), freq='d')\n",
    "print((\"There are {} days between the first case and last case in our dataset.\").format(len(day_index)))\n",
    "print((\"The first case was recorded on {}.\").format(min(day_index)))\n",
    "print((\"The last case was recorded on {}.\").format(max(day_index)))"
   ]
  },
  {
   "cell_type": "code",
   "execution_count": 166,
   "metadata": {},
   "outputs": [],
   "source": [
    "saint_croix_linelist = pd.read_csv(\"../data/epi-data/saint-croix-cases-linelist.csv\")\n",
    "saint_thomas_linelist = pd.read_csv(\"../data/epi-data/saint-thomas-cases-linelist.csv\")\n",
    "saint_john_linelist = pd.read_csv(\"../data/epi-data/saint-john-cases-linelist.csv\")\n",
    "\n",
    "#daily epi curves (could use weekly if I wanted by specifying freq=\"w\")\n",
    "daily_combined_islands_epicurve = linelist_to_epicurve(combined_islands_linelist, \"SymptomOnsetDate\", all_islands_linelist, \"d\")\n",
    "daily_saint_croix_epicurve = linelist_to_epicurve(saint_croix_linelist, \"SymptomOnsetDate\", all_islands_linelist, \"d\")\n",
    "daily_saint_thomas_epicurve = linelist_to_epicurve(saint_thomas_linelist, \"SymptomOnsetDate\",  all_islands_linelist,\"d\")\n",
    "daily_saint_john_epicurve = linelist_to_epicurve(saint_john_linelist, \"SymptomOnsetDate\",  all_islands_linelist,\"d\")"
   ]
  },
  {
   "cell_type": "code",
   "execution_count": 169,
   "metadata": {},
   "outputs": [],
   "source": [
    "#export the incidence data to CSV in case I want to import into a different notebook later.\n",
    "combined_islands_epicurve.to_csv(\"../data/epi-data/daily_incidence_all_islands.csv\", index_label=\"date\")\n",
    "saint_croix_epicurve.to_csv(\"../data/epi-data/daily-incidence-saint-croix.csv\", index_label = \"date\")\n",
    "saint_thomas_epicurve.to_csv(\"../data/epi-data/daily-incidence-saint-thomas.csv\", index_label = \"date\")\n",
    "saint_john_epicurve.to_csv(\"../data/epi-data/daily_incidence_saint_john.csv\", index_label = \"date\")"
   ]
  },
  {
   "cell_type": "code",
   "execution_count": 220,
   "metadata": {},
   "outputs": [],
   "source": [
    "#for zika most epi curves were reported as cases per week, so I'm going to do that for my epi curves here as well.\n",
    "weekly_saint_croix_epicurve = linelist_to_epicurve(saint_croix_linelist, \"SymptomOnsetDate\", all_islands_linelist, \"w\")\n",
    "weekly_saint_thomas_epicurve = linelist_to_epicurve(saint_thomas_linelist, \"SymptomOnsetDate\",  all_islands_linelist,\"w\")\n",
    "weekly_saint_john_epicurve = linelist_to_epicurve(saint_john_linelist, \"SymptomOnsetDate\",  all_islands_linelist,\"w\")"
   ]
  },
  {
   "cell_type": "code",
   "execution_count": null,
   "metadata": {},
   "outputs": [],
   "source": []
  },
  {
   "cell_type": "code",
   "execution_count": 278,
   "metadata": {},
   "outputs": [
    {
     "data": {
      "image/png": "[encoded data removed]",
      "text/plain": [
       "<Figure size 720x720 with 1 Axes>"
      ]
     },
     "metadata": {},
     "output_type": "display_data"
    }
   ],
   "source": [
    "usvi_island_colors = {'saint_croix': '#669999', 'saint_thomas': '#800000' ,'saint_john': '#ffa500'}\n",
    "\n",
    "import matplotlib.dates as mdates\n",
    "\n",
    "\n",
    "fig,ax = plt.subplots(figsize=(10,10),facecolor=\"white\")\n",
    "\n",
    "#x values.\n",
    "dates = [x for x in weekly_saint_croix_epicurve.index]\n",
    "\n",
    "#y values\n",
    "stx_y_values = [y for y in weekly_saint_croix_epicurve[\"caseCount\"]]\n",
    "stt_y_values = [y for y in weekly_saint_thomas_epicurve[\"caseCount\"]]\n",
    "stj_y_values = [y for y in weekly_saint_john_epicurve[\"caseCount\"]]\n",
    "\n",
    "#plotting\n",
    "plt.bar(dates, stt_y_values,  width = 5, alpha = 0.7, color = usvi_island_colors[\"saint_thomas\"])\n",
    "plt.bar(dates, stx_y_values, width = 5, alpha = 0.8, color = usvi_island_colors[\"saint_croix\"])\n",
    "plt.bar(dates, stj_y_values,  width = 5, alpha = 0.9, color = [usvi_island_colors[\"saint_john\"]])\n",
    "\n",
    "#remove annoying extraneous lines\n",
    "ax.spines['top'].set_visible(False)\n",
    "ax.spines['left'].set_visible(True)\n",
    "ax.spines['right'].set_visible(False)\n",
    "\n",
    "#axis labeling and formatting\n",
    "ax.set_ylabel('Weekly incidence\\n',size=16)\n",
    "ax.xaxis_date()\n",
    "ax.xaxis.set_major_formatter(mdates.DateFormatter(\"%b-%Y\"))"
   ]
  }
 ],
 "metadata": {
  "kernelspec": {
   "display_name": "Python 3",
   "language": "python",
   "name": "python3"
  },
  "language_info": {
   "codemirror_mode": {
    "name": "ipython",
    "version": 3
   },
   "file_extension": ".py",
   "mimetype": "text/x-python",
   "name": "python",
   "nbconvert_exporter": "python",
   "pygments_lexer": "ipython3",
   "version": "3.6.4"
  }
 },
 "nbformat": 4,
 "nbformat_minor": 1
}

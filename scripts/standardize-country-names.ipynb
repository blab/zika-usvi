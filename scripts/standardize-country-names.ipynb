{
 "cells": [
  {
   "cell_type": "code",
   "execution_count": 60,
   "metadata": {
    "collapsed": true
   },
   "outputs": [],
   "source": [
    "#import libraries\n",
    "\n",
    "import pandas as pd\n",
    "import re"
   ]
  },
  {
   "cell_type": "markdown",
   "metadata": {},
   "source": [
    "I think probably the best way to clean the HORRIFIC RAW DOWNLOAD cia world factbook pop size thing is to line by line replace the whitespace nonsense with tab delimiter, snake_case the name (maybe, or leave as second step?), and write each line to a new tsv file. "
   ]
  },
  {
   "cell_type": "code",
   "execution_count": null,
   "metadata": {
    "collapsed": true
   },
   "outputs": [],
   "source": []
  },
  {
   "cell_type": "code",
   "execution_count": null,
   "metadata": {
    "collapsed": true
   },
   "outputs": [],
   "source": []
  },
  {
   "cell_type": "code",
   "execution_count": null,
   "metadata": {
    "collapsed": true
   },
   "outputs": [],
   "source": []
  },
  {
   "cell_type": "code",
   "execution_count": null,
   "metadata": {
    "collapsed": true
   },
   "outputs": [],
   "source": []
  },
  {
   "cell_type": "code",
   "execution_count": null,
   "metadata": {
    "collapsed": true
   },
   "outputs": [],
   "source": []
  },
  {
   "cell_type": "code",
   "execution_count": null,
   "metadata": {
    "collapsed": true
   },
   "outputs": [],
   "source": []
  },
  {
   "cell_type": "code",
   "execution_count": 61,
   "metadata": {
    "collapsed": true
   },
   "outputs": [],
   "source": [
    "# define functions\n",
    "def camelcase_to_snakecase(name):\n",
    "    s1 = re.sub('(.)([A-Z][a-z]+)', r'\\1_\\2', name)\n",
    "    return re.sub('([a-z0-9])([A-Z])', r'\\1_\\2', s1).lower().replace(' ','').replace('-','').replace(',_the','')"
   ]
  },
  {
   "cell_type": "code",
   "execution_count": 62,
   "metadata": {
    "collapsed": false
   },
   "outputs": [],
   "source": [
    "#load in raw datasets\n",
    "suitability_df = pd.read_csv('/Users/alliblk/Desktop/gitrepos/zika-usvi/data/glm/raw-data/americas-zika-suitability.tsv', sep='\\t',names=['Country','suitability_score'])\n",
    "pax_traffic_df = pd.read_excel('/Users/alliblk/Desktop/gitrepos/zika-usvi/data/glm/raw-data/Americas-to-Americas-2012-2016_KK_DB.xlsx')\n",
    "urban_pop_df = pd.read_csv('/Users/alliblk/Desktop/gitrepos/zika-usvi/data/glm/raw-data/proportion-urban-population-worldbank.csv', sep='\\t')"
   ]
  },
  {
   "cell_type": "code",
   "execution_count": 63,
   "metadata": {
    "collapsed": false
   },
   "outputs": [],
   "source": [
    "##### Standardize Country Naming #####\n",
    "\n",
    "#Switch names to snake_case with the above function. This will fix most country names, but not all.\n",
    "pax_traffic_df['originCountryName'] = pax_traffic_df['originCountryName'].apply(camelcase_to_snakecase)\n",
    "pax_traffic_df['destinationCountryName'] = pax_traffic_df['destinationCountryName'].apply(camelcase_to_snakecase)\n",
    "urban_pop_df['Country Name'] = urban_pop_df['Country Name'].apply(camelcase_to_snakecase)\n",
    "suitability_df['Country'] = suitability_df['Country'].apply(camelcase_to_snakecase)\n",
    "#To switch the remaining, more problematic names, I'm going to use a name fix tsv file.\n",
    "\n",
    "#read in name fix tsv, making a dictionary where the key is the name in it's messed up form, and the value \n",
    "#is the standardized name in the form I want.\n",
    "name_fix_df = pd.read_table('/Users/alliblk/Desktop/gitrepos/zika-usvi/scripts/name_fix.tsv',sep='\\t')\n",
    "name_fix_dict = dict(name_fix_df.values)\n",
    "\n",
    "# make a new column to hold the standardized names\n",
    "# note that I'm not fixing any messed up names of countries that are not part of our analysis.\n",
    "# eg bosniaand_herzegovina should be left as is since it's not part of the analysis.\n",
    "# therefore if name_fix_dict.get() is None I want the same (messed up) row name to be returned.\n",
    "# all of this will be saved as a new series and appended to the df.\n",
    "# note axis = 1 just says loop through the rows.\n",
    "\n",
    "urban_pop_df['country'] = urban_pop_df.apply(lambda row: name_fix_dict.get(row['Country Name'],row['Country Name']),axis=1)\n",
    "pax_traffic_df['fixedOriginName'] = pax_traffic_df.apply(lambda row: name_fix_dict.get(row['originCountryName'],row['originCountryName']),axis=1)\n",
    "pax_traffic_df['fixedDestinName'] = pax_traffic_df.apply(lambda row: name_fix_dict.get(row['destinationCountryName'],row['destinationCountryName']),axis=1)\n",
    "suitability_df['country'] = suitability_df.apply(lambda row: name_fix_dict.get(row['Country'],row['Country']), axis=1)"
   ]
  },
  {
   "cell_type": "code",
   "execution_count": 64,
   "metadata": {
    "collapsed": false
   },
   "outputs": [],
   "source": [
    "##### for Urban Population, turn percent (0 to 100 scale) to fraction (0 to 1 scale) for 2016 data we'll use\n",
    "urban_pop_df['2016_urban_pop_fraction'] = urban_pop_df['2016']/100.0"
   ]
  },
  {
   "cell_type": "code",
   "execution_count": 65,
   "metadata": {
    "collapsed": false
   },
   "outputs": [],
   "source": [
    "#Alright, so we've fixed up the raw data frames nicely. Export to tsv.\n",
    "suitability_df.to_csv('/Users/alliblk/Desktop/gitrepos/zika-usvi/data/glm/standardized-data/std-zika-suitability.tsv', index = False, columns = ['country', 'suitability_score'], sep = '\\t')\n",
    "pax_traffic_df.to_csv('/Users/alliblk/Desktop/gitrepos/zika-usvi/data/glm/standardized-data/std-pax-volume.tsv', index=False, columns = ['fixedOriginName', 'fixedDestinName' , 'PAXVolume'], sep = '\\t')\n",
    "urban_pop_df.to_csv('/Users/alliblk/Desktop/gitrepos/zika-usvi/data/glm/standardized-data/std-urban-pop-fraction.tsv', index=False, columns = ['country','2016_urban_pop_fraction'], sep='\\t')"
   ]
  }
 ],
 "metadata": {
  "kernelspec": {
   "display_name": "Python 2",
   "language": "python",
   "name": "python2"
  },
  "language_info": {
   "codemirror_mode": {
    "name": "ipython",
    "version": 2
   },
   "file_extension": ".py",
   "mimetype": "text/x-python",
   "name": "python",
   "nbconvert_exporter": "python",
   "pygments_lexer": "ipython2",
   "version": "2.7.10"
  }
 },
 "nbformat": 4,
 "nbformat_minor": 0
}

{
 "cells": [
  {
   "cell_type": "code",
   "execution_count": 13,
   "metadata": {
    "collapsed": true
   },
   "outputs": [],
   "source": [
    "import pandas as pd\n",
    "import re"
   ]
  },
  {
   "cell_type": "code",
   "execution_count": 14,
   "metadata": {
    "collapsed": true
   },
   "outputs": [],
   "source": [
    "def camelcase_to_snakecase(name):\n",
    "    s1 = re.sub('(.)([A-Z][a-z]+)', r'\\1_\\2', name)\n",
    "    return re.sub('([a-z0-9])([A-Z])', r'\\1_\\2', s1).lower()"
   ]
  },
  {
   "cell_type": "code",
   "execution_count": 15,
   "metadata": {
    "collapsed": false
   },
   "outputs": [],
   "source": [
    "pax_traffic_df = pd.read_excel('/Users/alliblk/Desktop/gitrepos/zika-usvi/data/phylo-glm/raw-predictor-data/Americas-to-Americas-2012-2016_KK_DB.xlsx')"
   ]
  },
  {
   "cell_type": "code",
   "execution_count": 27,
   "metadata": {
    "collapsed": false
   },
   "outputs": [],
   "source": [
    "#Switch names to snake_case\n",
    "pax_traffic_df['originCountryName'] = pax_traffic_df['originCountryName'].apply(camelcase_to_snakecase)\n",
    "pax_traffic_df['destinationCountryName'] = pax_traffic_df['destinationCountryName'].apply(camelcase_to_snakecase)\n",
    "pax_traffic_df\n",
    "#okay so this sort of does it, but not enough. Write to tsv and do some work in text wrangler.\n",
    "pax_traffic_df.to_csv('/Users/alliblk/Desktop/gitrepos/zika-usvi/data/phylo-glm/pax_volume_needNameFix.tsv', index=False, columns = ['originCountryName', 'destinationCountryName' , 'PAXVolume'], sep = '\\t')"
   ]
  }
 ],
 "metadata": {
  "kernelspec": {
   "display_name": "Python 2",
   "language": "python",
   "name": "python2"
  },
  "language_info": {
   "codemirror_mode": {
    "name": "ipython",
    "version": 2
   },
   "file_extension": ".py",
   "mimetype": "text/x-python",
   "name": "python",
   "nbconvert_exporter": "python",
   "pygments_lexer": "ipython2",
   "version": "2.7.10"
  }
 },
 "nbformat": 4,
 "nbformat_minor": 0
}

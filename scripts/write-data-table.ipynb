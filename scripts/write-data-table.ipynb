{
 "cells": [
  {
   "cell_type": "code",
   "execution_count": 1,
   "metadata": {
    "collapsed": true
   },
   "outputs": [],
   "source": [
    "import pandas as pd\n",
    "import numpy as np"
   ]
  },
  {
   "cell_type": "markdown",
   "metadata": {},
   "source": [
    "### Make table of all samples used, based off of fasta file.\n",
    "\n",
    "Note that this includes every available Zika genome available to download from Nextstrain-Fauna. The purpose of this code is to ensure we have a an automated way to tabulate all genomes included in an analysis based off of the fasta files that was used as input for the analysis."
   ]
  },
  {
   "cell_type": "code",
   "execution_count": 2,
   "metadata": {
    "collapsed": false
   },
   "outputs": [],
   "source": [
    "infile = \"/Users/alliblk/Desktop/gitrepos/fauna/data/zika.fasta\" #fauna download automatically writes here.\n",
    "data_array = [line.strip().replace(\">\",\"\").split('|') for line in open(infile, \"rU\") if line.startswith(\">\")]\n",
    "reduced_array = [[line[0],line[2], line[3], line[5], line[10]] for line in data_array] #don't need all info in header"
   ]
  },
  {
   "cell_type": "code",
   "execution_count": 3,
   "metadata": {
    "collapsed": false
   },
   "outputs": [],
   "source": [
    "samples_df = pd.DataFrame(data=reduced_array, columns = ['strain_name', 'accession_number', 'collection_date', 'country', 'citation'] )"
   ]
  },
  {
   "cell_type": "markdown",
   "metadata": {},
   "source": [
    "### Make data table of USVI samples only (from excel import).\n",
    "\n",
    "Includes sequencing stats and metadata for _all_ USVI diagnostic samples that Bedford lab extracted and attemped to amplify."
   ]
  },
  {
   "cell_type": "code",
   "execution_count": 4,
   "metadata": {
    "collapsed": true
   },
   "outputs": [],
   "source": [
    "usvi_file_path = '/Users/alliblk/Desktop/gitrepos/zika-usvi/data/zika-usvi-sample-table.xlsx'\n",
    "usvi_df = pd.read_excel(usvi_file_path)"
   ]
  },
  {
   "cell_type": "code",
   "execution_count": 5,
   "metadata": {
    "collapsed": false
   },
   "outputs": [],
   "source": [
    "# also want a table that includes only SEQUENCED samples\n",
    "usvi_sequenced_df = usvi_df.loc[usvi_df['seq_platform'].isin(['minion,miseq','minion','miseq'])]"
   ]
  },
  {
   "cell_type": "code",
   "execution_count": 6,
   "metadata": {
    "collapsed": false
   },
   "outputs": [
    {
     "name": "stdout",
     "output_type": "stream",
     "text": [
      "31\n"
     ]
    }
   ],
   "source": [
    "# have a slightly more limited table for inclusin in genome annoucement.\n",
    "samples_table_1 = usvi_sequenced_df[['blab_id','Ct','seq_platform','genome_coverage','collection_date', 'location','country']]\n",
    "\n",
    "#check that number of full and partial coverage genomes matches number of genomes up on nextstrain.\n",
    "print len(samples_table_1.loc[samples_table_1['genome_coverage'].isin(['>80%', '50-80%'])])"
   ]
  },
  {
   "cell_type": "code",
   "execution_count": 7,
   "metadata": {
    "collapsed": false
   },
   "outputs": [],
   "source": [
    "# convert to latex for inclusion in genome annoucement.\n",
    "print samples_table_1.to_latex(index=False)"
   ]
  }
 ],
 "metadata": {
  "kernelspec": {
   "display_name": "Python 2",
   "language": "python",
   "name": "python2"
  },
  "language_info": {
   "codemirror_mode": {
    "name": "ipython",
    "version": 2
   },
   "file_extension": ".py",
   "mimetype": "text/x-python",
   "name": "python",
   "nbconvert_exporter": "python",
   "pygments_lexer": "ipython2",
   "version": "2.7.10"
  }
 },
 "nbformat": 4,
 "nbformat_minor": 0
}

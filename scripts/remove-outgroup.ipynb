{
 "cells": [
  {
   "cell_type": "code",
   "execution_count": 1,
   "metadata": {
    "collapsed": true
   },
   "outputs": [],
   "source": [
    "#Libraries\n",
    "import re"
   ]
  },
  {
   "cell_type": "markdown",
   "metadata": {},
   "source": [
    "## README: Removing french polynesian outgroup from posterior distribution of trees\n",
    "\n",
    "To properly root our phylogenies of Zika in the Americas, we included a french polynesian genome as an outgroup. In the BEAST xml we've mandated that American ZIKV genomes be monophyletic, with this french polynesian isolate as an outgroup. However, since we don't want french polynesia as a deme in our phylogeographic analysis, we need to remove the french polynesian genome from the posterior sample of trees prior to using these trees. This is actually quite simple to do because the the french polynesian genome is always an outgroup. Therefore we just have to crop the french polynesian genome, as well as the branch leading to the American MRCA, from the tree. I'm doing this cropping by regex pattern finding and substiuting the pattern with an empty string. \n",
    "\n",
    "This regex: `\\(172\\:\\[&rate=[0-9]+\\.[0-9]+\\][0-9]+\\.[0-9]+\\,` matches all taxa information for taxa #172 (which maps to the french polynesian genomes in my Nexus file). It is found right at the beginning of each Newick tree string.\n",
    "\n",
    "This regex `\\[&rate=[0-9]+\\.[0-9]+\\][0-9]+\\.[0-9]+\\)\\;` matches to the branch information for the branch that leads from the outgroup MRCA to the American monophyly MRCA. It also needs to be removed.\n",
    "\n",
    "#### Please note that this code is adapted from Baltic, a python package written by Gytis Dudas, for parsing BEAST trees files. Shout out to him."
   ]
  },
  {
   "cell_type": "markdown",
   "metadata": {},
   "source": [
    "#### Step 1: Parse non-newick trees portions of the `.trees` file\n",
    "\n",
    "In the first part of the file I'm going to make a dictionary linking the numerical taxon name (which BEAST makes) with the string taxon name as it appears in the fasta. I'm also going to write these lines back into the output `.trees` file since this information will need to be in that file. Not doing any newick string parsing yet."
   ]
  },
  {
   "cell_type": "code",
   "execution_count": 25,
   "metadata": {
    "collapsed": false
   },
   "outputs": [
    {
     "name": "stdout",
     "output_type": "stream",
     "text": [
      "172\n"
     ]
    }
   ],
   "source": [
    "with open('/Users/alliblk/Desktop/gitrepos/zika-usvi/scripts/alignment_americas_monophyly.trees','rU') as infile: \n",
    "    \n",
    "    taxaTranslation = False    \n",
    "   \n",
    "    with open('/Users/alliblk/Desktop/gitrepos/zika-usvi/scripts/trial_cropped.trees','w') as outfile:\n",
    "        \n",
    "        for line in infile: ## iterate through each line\n",
    "            if 'state' not in line.lower(): #going to grab all the interesting stuff in the .trees file prior to the newick tree strings\n",
    "                matchTaxonCount = re.search('Dimensions ntax\\=([0-9]+)\\;',line) ## Extract useful information from the bits preceding the actual trees.\n",
    "                if matchTaxonCount is not None:\n",
    "                    nTaxa = int(matchTaxonCount.group(1))\n",
    "            \n",
    "            if 'Translate' in line: #int to full taxon name mapping follows in file\n",
    "                taxaTranslation = True\n",
    "                tipNameMap = {}\n",
    "            \n",
    "            if taxaTranslation == True:\n",
    "                matchMapping = re.search('([0-9]+) ([\\'\\\"A-Za-z0-9\\?\\|\\-\\_\\.\\/]+)',line)\n",
    "                if matchMapping is not None:\n",
    "                    tipNameMap[matchMapping.group(1)] = matchMapping.group(2)\n",
    "            \n",
    "            if 'tree STATE_' in line:\n",
    "                break\n",
    "            else:\n",
    "                outfile.write(line) #output trees file needs to have all the same initial headers etc as input file did\n",
    "    #Checks\n",
    "    assert len(tipNameMap) == nTaxa, 'not all tips read in by regex'\n",
    "                \n",
    "\n",
    "for key in tipNameMap.keys():\n",
    "    if 'french_polynesia' in tipNameMap[key]:\n",
    "        outgroupIntName = key\n",
    "\n",
    "print outgroupIntName"
   ]
  },
  {
   "cell_type": "markdown",
   "metadata": {
    "collapsed": false
   },
   "source": [
    "#### Step 2: Crop Newick strings down to remove outgroup, appending these to the output `.trees` file."
   ]
  },
  {
   "cell_type": "code",
   "execution_count": 27,
   "metadata": {
    "collapsed": true
   },
   "outputs": [],
   "source": [
    "with open('/Users/alliblk/Desktop/gitrepos/zika-usvi/scripts/alignment_americas_monophyly.trees','rU') as infile:\n",
    "    with open('/Users/alliblk/Desktop/gitrepos/zika-usvi/scripts/trial_cropped.trees','a') as outfile: #appending so as not to overwrite\n",
    "        for line in infile:      \n",
    "            if 'tree STATE_' in line: #sampled tree strings now\n",
    "                crudMatch = re.match('tree\\sSTATE\\_([0-9]+).+\\[\\&R\\]\\s',line) #.match is always at beginning of string\n",
    "                front_cropped_newick = re.sub('\\({}\\:\\[&rate=[0-9]+\\.[0-9]+\\][0-9]+\\.[0-9]+\\,'.format(outgroupIntName), '', line) # match outgroup taxon\n",
    "                back_cropped_newick = re.sub('\\:\\[&rate=[0-9]+\\.[0-9]+\\][0-9]+\\.[0-9]+\\)\\;', ';', front_cropped_newick) #match branch length to Americas mrca\n",
    "                outfile.write(back_cropped_newick)"
   ]
  }
 ],
 "metadata": {
  "kernelspec": {
   "display_name": "Python 2",
   "language": "python",
   "name": "python2"
  },
  "language_info": {
   "codemirror_mode": {
    "name": "ipython",
    "version": 2
   },
   "file_extension": ".py",
   "mimetype": "text/x-python",
   "name": "python",
   "nbconvert_exporter": "python",
   "pygments_lexer": "ipython2",
   "version": "2.7.10"
  }
 },
 "nbformat": 4,
 "nbformat_minor": 0
}

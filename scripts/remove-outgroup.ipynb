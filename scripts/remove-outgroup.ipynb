{
 "cells": [
  {
   "cell_type": "code",
   "execution_count": 3,
   "metadata": {
    "collapsed": true
   },
   "outputs": [],
   "source": [
    "#Libraries\n",
    "import re"
   ]
  },
  {
   "cell_type": "markdown",
   "metadata": {},
   "source": [
    "### This code is adapted from Baltic, a python package written by Gytis Dudas, for parsing BEAST trees files.\n",
    "Need to:\n",
    "    count number of tax (ntax)\n",
    "    have tip translation dictionary"
   ]
  },
  {
   "cell_type": "code",
   "execution_count": 53,
   "metadata": {
    "collapsed": false
   },
   "outputs": [
    {
     "name": "stdout",
     "output_type": "stream",
     "text": [
      "tree STATE_0 [&lnP=-70336.1258368917,posterior=-70336.1258368917] = [&R] \n"
     ]
    }
   ],
   "source": [
    "with open('/Users/alliblk/Desktop/gitrepos/zika-usvi/scripts/alignment_americas_monophyly.trees','rU') as file:\n",
    "    taxaTranslation = False\n",
    "    \n",
    "    for line in file: ## iterate through each line\n",
    "    ###################################################################################\n",
    "        if 'state' not in line.lower(): #going to grab all the interesting stuff in the .trees file prior to the newick tree strings\n",
    "            matchTaxonCount = re.search('Dimensions ntax\\=([0-9]+)\\;',line) ## Extract useful information from the bits preceding the actual trees.\n",
    "            if matchTaxonCount is not None:\n",
    "                nTaxa = int(matchTaxonCount.group(1))\n",
    "        \n",
    "        if 'Translate' in line: #int to full taxon name mapping follows in file\n",
    "            taxaTranslation = True\n",
    "            tipNameMap = {}\n",
    "        \n",
    "        if taxaTranslation == True:\n",
    "            matchMapping = re.search('([0-9]+) ([\\'\\\"A-Za-z0-9\\?\\|\\-\\_\\.\\/]+)',line)\n",
    "            if matchMapping is not None:\n",
    "                tipNameMap[matchMapping.group(1)] = matchMapping.group(2)\n",
    "        \n",
    "        if 'tree STATE_' in line: #sampled tree strings now\n",
    "            crudMatch = re.match('tree\\sSTATE\\_([0-9]+).+\\[\\&R\\]\\s',line)\n",
    "            treeStringMatch = #NEED TO MAKE TREE STRING MATCH\n",
    "            print crudMatch.group(0)\n",
    "            break\n",
    "    \n",
    "\n",
    "    #Checks\n",
    "    assert len(tipNameMap) == nTaxa, 'not all tips read in by regex'\n",
    "                \n"
   ]
  },
  {
   "cell_type": "code",
   "execution_count": null,
   "metadata": {
    "collapsed": false
   },
   "outputs": [],
   "source": []
  },
  {
   "cell_type": "code",
   "execution_count": null,
   "metadata": {
    "collapsed": true
   },
   "outputs": [],
   "source": []
  },
  {
   "cell_type": "code",
   "execution_count": null,
   "metadata": {
    "collapsed": true
   },
   "outputs": [],
   "source": []
  },
  {
   "cell_type": "code",
   "execution_count": null,
   "metadata": {
    "collapsed": true
   },
   "outputs": [],
   "source": []
  },
  {
   "cell_type": "code",
   "execution_count": 4,
   "metadata": {
    "collapsed": false
   },
   "outputs": [],
   "source": []
  }
 ],
 "metadata": {
  "kernelspec": {
   "display_name": "Python 2",
   "language": "python",
   "name": "python2"
  },
  "language_info": {
   "codemirror_mode": {
    "name": "ipython",
    "version": 2
   },
   "file_extension": ".py",
   "mimetype": "text/x-python",
   "name": "python",
   "nbconvert_exporter": "python",
   "pygments_lexer": "ipython2",
   "version": "2.7.10"
  }
 },
 "nbformat": 4,
 "nbformat_minor": 0
}

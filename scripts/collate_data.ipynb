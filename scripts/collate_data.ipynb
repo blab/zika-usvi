{
 "cells": [
  {
   "cell_type": "code",
   "execution_count": 1,
   "metadata": {
    "collapsed": true
   },
   "outputs": [],
   "source": [
    "import pandas as pd\n",
    "import numpy as np"
   ]
  },
  {
   "cell_type": "code",
   "execution_count": 2,
   "metadata": {
    "collapsed": true
   },
   "outputs": [],
   "source": [
    "# file paths for data that will need to be merged.\n",
    "\n",
    "indexed_countries_path = \"/Users/alliblk/Desktop/gitrepos/zika-usvi/data/indexed-countries.tsv\"\n",
    "pop_sizes_path = \"/Users/alliblk/Desktop/gitrepos/zika-usvi/data/predictors/cia-world-fact-book-popsizes.txt\"\n",
    "paho_case_counts_path = \"/Users/alliblk/Desktop/gitrepos/zika-usvi/data/metadata/paho-cumul-case-2017-07-13.xls\"\n",
    "genome_counts_path = \"/Users/alliblk/Desktop/gitrepos/zika-usvi/data/all-zika-fauna-nextstrain-counts-2017-07-05.tsv\""
   ]
  },
  {
   "cell_type": "code",
   "execution_count": 3,
   "metadata": {
    "collapsed": false
   },
   "outputs": [],
   "source": [
    "master_df = pd.read_table(indexed_countries_path)"
   ]
  },
  {
   "cell_type": "code",
   "execution_count": 4,
   "metadata": {
    "collapsed": false
   },
   "outputs": [],
   "source": [
    "#read in from other files that have information that we want, but from more countries than the set we care about.\n",
    "#merge dataframes on the indexed countries df to ensure we only keep records from countries of interest.\n",
    "\n",
    "\n",
    "#country population sizes\n",
    "pop_size_df = pd.read_table(pop_sizes_path)\n",
    "del pop_size_df['rank'] #doesn't matter, part of world fact book export\n",
    "\n",
    "#numbers of genomes available, either on fauna, or on nextstrain (sometimes less than what's on fauna)\n",
    "genome_count_df = pd.read_table(genome_counts_path)\n",
    "\n",
    "#merging\n",
    "master_df = pd.merge(master_df, genome_count_df, on='country', how='left')\n",
    "#remove NaNs from genome counts > replace with zeros\n",
    "master_df.fillna(value=0.0, inplace= True)\n",
    "\n",
    "master_df = pd.merge(master_df, pop_size_df, on='country', how='left')\n"
   ]
  },
  {
   "cell_type": "code",
   "execution_count": 5,
   "metadata": {
    "collapsed": false
   },
   "outputs": [
    {
     "name": "stdout",
     "output_type": "stream",
     "text": [
      "                             country           region  fauna_count  \\\n",
      "0                      united_states    north_america         41.0   \n",
      "1                            bermuda    north_america          0.0   \n",
      "2                             mexico    north_america         17.0   \n",
      "3                             belize  central_america          0.0   \n",
      "4                          guatemala  central_america          3.0   \n",
      "5                           honduras  central_america         23.0   \n",
      "6                        el_salvador  central_america          1.0   \n",
      "7                          nicaragua  central_america          8.0   \n",
      "8                         costa_rica  central_america          0.0   \n",
      "9                             panama  central_america          4.0   \n",
      "10                           bahamas        caribbean          0.0   \n",
      "11                              cuba        caribbean          1.0   \n",
      "12                  turks_and_caicos        caribbean          0.0   \n",
      "13                    cayman_islands        caribbean          0.0   \n",
      "14                           jamaica        caribbean          5.0   \n",
      "15                             haiti        caribbean         10.0   \n",
      "16                dominican_republic        caribbean          0.0   \n",
      "17                       puerto_rico        caribbean          6.0   \n",
      "18                              usvi        caribbean         31.0   \n",
      "19             saint_kitts_and_nevis        caribbean          0.0   \n",
      "20               antigua_and_barbuda        caribbean          0.0   \n",
      "21                        guadeloupe        caribbean          1.0   \n",
      "22                          dominica        caribbean          0.0   \n",
      "23                        martinique        caribbean          3.0   \n",
      "24                       saint_lucia        caribbean          0.0   \n",
      "25  saint_vincent_and_the_grenadines        caribbean          0.0   \n",
      "26                          barbados        caribbean          0.0   \n",
      "27                           grenada        caribbean          0.0   \n",
      "28               trinidad_and_tobago        caribbean          0.0   \n",
      "29                           curacao        caribbean          0.0   \n",
      "30                             aruba        caribbean          0.0   \n",
      "31                     french_guiana    south_america          1.0   \n",
      "32                          suriname    south_america          3.0   \n",
      "33                            guyana    south_america          0.0   \n",
      "34                         venezuela    south_america          9.0   \n",
      "35                          colombia    south_america         13.0   \n",
      "36                           ecuador    south_america          2.0   \n",
      "37                              peru    south_america          2.0   \n",
      "38                           bolivia    south_america          0.0   \n",
      "39                            brazil    south_america        107.0   \n",
      "40                          paraguay    south_america          0.0   \n",
      "41                           uruguay    south_america          0.0   \n",
      "42                         argentina    south_america          0.0   \n",
      "43                             chile    south_america          0.0   \n",
      "\n",
      "    nextstrain_count  n_seqs_unpublished     pop_size  \n",
      "0               35.0                 0.0  323995528.0  \n",
      "1                0.0                 0.0      70537.0  \n",
      "2               17.0                 0.0  123166749.0  \n",
      "3                0.0                 0.0     353858.0  \n",
      "4                3.0                 0.0   15189958.0  \n",
      "5               23.0                 0.0    8893259.0  \n",
      "6                1.0                 0.0    6156670.0  \n",
      "7                8.0                 0.0    5966798.0  \n",
      "8                0.0                 0.0    4872543.0  \n",
      "9                4.0                 0.0    3705246.0  \n",
      "10               0.0                 0.0     327316.0  \n",
      "11               1.0                 1.0   11179995.0  \n",
      "12               0.0                 0.0      51430.0  \n",
      "13               0.0                 0.0      57268.0  \n",
      "14               4.0                 0.0    2970340.0  \n",
      "15              10.0                 6.0   10485800.0  \n",
      "16               0.0                 0.0   10606865.0  \n",
      "17               6.0                 0.0    3578056.0  \n",
      "18              31.0                 0.0     102951.0  \n",
      "19               0.0                 0.0      52329.0  \n",
      "20               0.0                 0.0      93581.0  \n",
      "21               1.0                 1.0          NaN  \n",
      "22               0.0                 0.0      73757.0  \n",
      "23               3.0                 0.0          NaN  \n",
      "24               0.0                 0.0     164464.0  \n",
      "25               0.0                 0.0     102350.0  \n",
      "26               0.0                 0.0     291495.0  \n",
      "27               0.0                 0.0     111219.0  \n",
      "28               0.0                 0.0    1220479.0  \n",
      "29               0.0                 0.0     149035.0  \n",
      "30               0.0                 0.0     113648.0  \n",
      "31               1.0                 0.0          NaN  \n",
      "32               3.0                 0.0     585824.0  \n",
      "33               0.0                 0.0     735909.0  \n",
      "34               5.0                 0.0   30912302.0  \n",
      "35              13.0                 0.0   47220856.0  \n",
      "36               2.0                 0.0   16080778.0  \n",
      "37               2.0                 0.0   30741062.0  \n",
      "38               0.0                 0.0   10969649.0  \n",
      "39              84.0                 0.0  205823665.0  \n",
      "40               0.0                 0.0    6862812.0  \n",
      "41               0.0                 0.0    3351016.0  \n",
      "42               0.0                 0.0   43886748.0  \n",
      "43               0.0                 0.0   17650114.0  \n",
      "country                object\n",
      "region                 object\n",
      "fauna_count           float64\n",
      "nextstrain_count      float64\n",
      "n_seqs_unpublished    float64\n",
      "pop_size              float64\n",
      "dtype: object\n"
     ]
    }
   ],
   "source": [
    "print master_df\n",
    "print(master_df.dtypes)"
   ]
  },
  {
   "cell_type": "code",
   "execution_count": 6,
   "metadata": {
    "collapsed": false
   },
   "outputs": [
    {
     "data": {
      "text/html": [
       "<div>\n",
       "<table border=\"1\" class=\"dataframe\">\n",
       "  <thead>\n",
       "    <tr style=\"text-align: right;\">\n",
       "      <th></th>\n",
       "      <th>country</th>\n",
       "      <th>region</th>\n",
       "      <th>fauna_count</th>\n",
       "      <th>nextstrain_count</th>\n",
       "      <th>n_seqs_unpublished</th>\n",
       "      <th>pop_size</th>\n",
       "    </tr>\n",
       "  </thead>\n",
       "  <tbody>\n",
       "    <tr>\n",
       "      <th>21</th>\n",
       "      <td>guadeloupe</td>\n",
       "      <td>caribbean</td>\n",
       "      <td>1.0</td>\n",
       "      <td>1.0</td>\n",
       "      <td>1.0</td>\n",
       "      <td>NaN</td>\n",
       "    </tr>\n",
       "    <tr>\n",
       "      <th>23</th>\n",
       "      <td>martinique</td>\n",
       "      <td>caribbean</td>\n",
       "      <td>3.0</td>\n",
       "      <td>3.0</td>\n",
       "      <td>0.0</td>\n",
       "      <td>NaN</td>\n",
       "    </tr>\n",
       "    <tr>\n",
       "      <th>31</th>\n",
       "      <td>french_guiana</td>\n",
       "      <td>south_america</td>\n",
       "      <td>1.0</td>\n",
       "      <td>1.0</td>\n",
       "      <td>0.0</td>\n",
       "      <td>NaN</td>\n",
       "    </tr>\n",
       "  </tbody>\n",
       "</table>\n",
       "</div>"
      ],
      "text/plain": [
       "          country         region  fauna_count  nextstrain_count  \\\n",
       "21     guadeloupe      caribbean          1.0               1.0   \n",
       "23     martinique      caribbean          3.0               3.0   \n",
       "31  french_guiana  south_america          1.0               1.0   \n",
       "\n",
       "    n_seqs_unpublished  pop_size  \n",
       "21                 1.0       NaN  \n",
       "23                 0.0       NaN  \n",
       "31                 0.0       NaN  "
      ]
     },
     "execution_count": 6,
     "metadata": {},
     "output_type": "execute_result"
    }
   ],
   "source": [
    "#CIA world fact book does not have population sizes for the following countries in our dataset.\n",
    "#These will need to be looked up somewhere else (e.g. UN population size data) and entered manually.\n",
    "master_df[master_df['pop_size'].isnull()]"
   ]
  },
  {
   "cell_type": "code",
   "execution_count": 7,
   "metadata": {
    "collapsed": false
   },
   "outputs": [],
   "source": [
    "# fill in pop sizes that weren't in CIA factbook manually, using census data\n",
    "# below: intuition for funky pandas indexing.\n",
    "# using locate (.loc), tell it which row you want (with conditional), then say which column you're editing == value.)\n",
    "\n",
    "master_df.loc[master_df['country'] == 'guadeloupe', 'pop_size'] = 402119.0 #source: https://www.insee.fr/fr/statistiques/1895182\n",
    "master_df.loc[master_df['country'] == 'martinique', 'pop_size'] = 385551.0 #source: https://www.insee.fr/fr/statistiques/1895162\n",
    "master_df.loc[master_df['country'] == 'french_guiana', 'pop_size'] = 252338.0 #source: https://www.insee.fr/fr/statistiques/1405599?geo=REG-03"
   ]
  },
  {
   "cell_type": "code",
   "execution_count": 7,
   "metadata": {
    "collapsed": false
   },
   "outputs": [],
   "source": [
    "#write out genome counts to csv\n",
    "master_df.to_csv(path_or_buf = '/Users/alliblk/Desktop/gitrepos/zika-usvi/data/genome_counts.tsv', sep = '\\t', columns = ['country','region','fauna_count','nextstrain_count','n_seqs_unpublished'])"
   ]
  }
 ],
 "metadata": {
  "kernelspec": {
   "display_name": "Python 2",
   "language": "python",
   "name": "python2"
  },
  "language_info": {
   "codemirror_mode": {
    "name": "ipython",
    "version": 2
   },
   "file_extension": ".py",
   "mimetype": "text/x-python",
   "name": "python",
   "nbconvert_exporter": "python",
   "pygments_lexer": "ipython2",
   "version": "2.7.10"
  }
 },
 "nbformat": 4,
 "nbformat_minor": 0
}

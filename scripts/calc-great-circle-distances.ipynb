{
 "cells": [
  {
   "cell_type": "code",
   "execution_count": 22,
   "metadata": {
    "collapsed": true
   },
   "outputs": [],
   "source": [
    "#import packages\n",
    "\n",
    "import re\n",
    "from geopy.distance import great_circle"
   ]
  },
  {
   "cell_type": "code",
   "execution_count": null,
   "metadata": {
    "collapsed": true
   },
   "outputs": [],
   "source": [
    "#mathematica names are outputted in camelCase, translating to snake_case.\n",
    "\n",
    "def camelcase_to_snakecase(name):\n",
    "    s1 = re.sub('(.)([A-Z][a-z]+)', r'\\1_\\2', name)\n",
    "    return re.sub('([a-z0-9])([A-Z])', r'\\1_\\2', s1).lower()"
   ]
  },
  {
   "cell_type": "code",
   "execution_count": 31,
   "metadata": {
    "collapsed": true
   },
   "outputs": [],
   "source": [
    "#infile of weighted population centroids was generated in mathematica\n",
    "#see weighted-centroids.nb for the code.\n",
    "\n",
    "wt_centroids_infile = '/Users/alliblk/Desktop/gitrepos/zika-usvi/data/predictors/pop-weighted-centroids.tsv'\n",
    "wt_centroids_outfile = '/Users/alliblk/Desktop/gitrepos/zika-usvi/data/predictors/great-circle-dists.tsv'"
   ]
  },
  {
   "cell_type": "code",
   "execution_count": 15,
   "metadata": {
    "collapsed": false
   },
   "outputs": [],
   "source": [
    "#read in latitudes and longitudes for each country as a dict\n",
    "#key is the country in snake_case, value is a tuple (latitude,longitude)\n",
    "\n",
    "weighted_pop_centroids = {}\n",
    "for line in open(wt_centroids_infile,'rU'):\n",
    "    place = camelcase_to_snakecase(line.split('\\t')[0])\n",
    "    latitude = float(line.split('\\t')[1])\n",
    "    longitude = float(line.split('\\t')[2])\n",
    "    weighted_pop_centroids[place] = (latitude,longitude)"
   ]
  },
  {
   "cell_type": "code",
   "execution_count": 46,
   "metadata": {
    "collapsed": false
   },
   "outputs": [],
   "source": [
    "#do some country editing since mathematica gives us some countries that we aren't interested in.\n",
    "\n",
    "excluded_countries = ['falkland_islands','montserrat', 'greenland', 'saint_pierre_miquelon']\n",
    "included_countries = [key for key in weighted_pop_centroids.keys() if key not in excluded_countries]"
   ]
  },
  {
   "cell_type": "code",
   "execution_count": 45,
   "metadata": {
    "collapsed": false
   },
   "outputs": [],
   "source": [
    "# write great circle distances to tsv file\n",
    "# all predictor data is stored as a long edge tsv rather than a matrix, eg\n",
    "# origin \\t destination \\t value\n",
    "# usa         mex           XXX\n",
    "# mex         usa           ZZZ\n",
    "\n",
    "with open(wt_centroids_outfile,'w') as file:\n",
    "    file.write('{}\\t{}\\t{}\\n'.format('origin', 'destination', 'great_circle_dist_km'))\n",
    "    for origin in included_countries:\n",
    "        for destination in included_countries:\n",
    "            dist = great_circle(weighted_pop_centroids[origin],weighted_pop_centroids[destination]).kilometers\n",
    "            file.write('{}\\t{}\\t{}\\n'.format(origin, destination, dist))"
   ]
  }
 ],
 "metadata": {
  "kernelspec": {
   "display_name": "Python 2",
   "language": "python",
   "name": "python2"
  },
  "language_info": {
   "codemirror_mode": {
    "name": "ipython",
    "version": 2
   },
   "file_extension": ".py",
   "mimetype": "text/x-python",
   "name": "python",
   "nbconvert_exporter": "python",
   "pygments_lexer": "ipython2",
   "version": "2.7.10"
  }
 },
 "nbformat": 4,
 "nbformat_minor": 0
}
